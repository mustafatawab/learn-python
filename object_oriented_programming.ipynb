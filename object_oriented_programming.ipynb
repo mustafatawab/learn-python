{
  "nbformat": 4,
  "nbformat_minor": 0,
  "metadata": {
    "colab": {
      "provenance": []
    },
    "kernelspec": {
      "name": "python3",
      "display_name": "Python 3"
    },
    "language_info": {
      "name": "python"
    }
  },
  "cells": [
    {
      "cell_type": "code",
      "execution_count": 1,
      "metadata": {
        "colab": {
          "base_uri": "https://localhost:8080/"
        },
        "id": "xiXCHPH-9_Cc",
        "outputId": "0dc85d57-2012-40f1-9781-c2d6f5463cc9"
      },
      "outputs": [
        {
          "output_type": "stream",
          "name": "stdout",
          "text": [
            "Mustafa is walking and you can speak \n"
          ]
        }
      ],
      "source": [
        "class Human:\n",
        "    def __init__(self , name):\n",
        "        self.name = name\n",
        "        self.__sound = \"you can speak\" #this is private\n",
        "\n",
        "    def Walk(self):\n",
        "        print(f\"{self.name} is walking and {self.__sound} \")\n",
        "\n",
        "\n",
        "human = Human(\"Mustafa\")\n",
        "human.Walk()\n",
        "# human.__sound"
      ]
    },
    {
      "cell_type": "code",
      "source": [
        "class Person:\n",
        "    def __init__(self , name , age) -> None:\n",
        "        self.name = name\n",
        "        self.age = age\n",
        "\n",
        "    def introduce(self):\n",
        "        print(f\"HI, My name is {self.name}\")\n",
        "\n",
        "\n",
        "\n",
        "class Student(Person):\n",
        "  def __init__(self, name, age, course) -> None:\n",
        "      super().__init__(name , age)\n",
        "      self.course = course\n",
        "\n",
        "  def study(self):\n",
        "      print(f\"{self.name} is studying {self.course}\")\n",
        "\n",
        "student = Student(\"Mustafa\" , 25, \"Python\")\n",
        "student.introduce()\n",
        "student.study()\n",
        "\n"
      ],
      "metadata": {
        "colab": {
          "base_uri": "https://localhost:8080/"
        },
        "id": "vBf2lMH0-H6c",
        "outputId": "f7dcc8a0-289d-4582-91a5-936e04dec8f5"
      },
      "execution_count": 2,
      "outputs": [
        {
          "output_type": "stream",
          "name": "stdout",
          "text": [
            "HI, My name is Mustafa\n",
            "Mustafa is studying Python\n"
          ]
        }
      ]
    },
    {
      "cell_type": "code",
      "source": [
        "class Animal:\n",
        "  def makeSound(self):\n",
        "    print(\"Animal is making sound\")\n",
        "\n",
        "\n",
        "class Dog(Animal):\n",
        "  def makeSound(self):\n",
        "     print(\"Dog is barking\")\n",
        "\n",
        "class Cat(Animal):\n",
        "  def makeSound(self):\n",
        "     print(\"Meow Meow\")\n",
        "\n",
        "animal = [Dog() , Cat()]\n",
        "for a in animal:\n",
        "  a.makeSound()"
      ],
      "metadata": {
        "colab": {
          "base_uri": "https://localhost:8080/"
        },
        "id": "EcnQVgnbAaMN",
        "outputId": "ce3f2f26-da62-4fb7-fa62-d728da228fc5"
      },
      "execution_count": 3,
      "outputs": [
        {
          "output_type": "stream",
          "name": "stdout",
          "text": [
            "Dog is barking\n",
            "Meow Meow\n"
          ]
        }
      ]
    },
    {
      "cell_type": "code",
      "source": [
        "from abc import ABC , abstractmethod\n",
        "import math\n",
        "class Shape(ABC):\n",
        "  @abstractmethod\n",
        "  def area(self):\n",
        "    pass\n",
        "\n",
        "class Rectangle(Shape):\n",
        "  def __init__(self, length : float , width : float) -> None:\n",
        "      self.length = length\n",
        "      self.width = width\n",
        "\n",
        "  def area(self):\n",
        "    return self.length * self.width\n",
        "\n",
        "\n",
        "class Circle(Shape):\n",
        "  def area(self , radius : float):\n",
        "     return math.pi * radius ** 2\n",
        "\n",
        "\n",
        "\n",
        "rectangle = Rectangle(10 , 20)\n",
        "print(rectangle.area())\n",
        "\n",
        "circle = Circle()\n",
        "print(circle.area(10))"
      ],
      "metadata": {
        "colab": {
          "base_uri": "https://localhost:8080/"
        },
        "id": "Z2J_5wQ8BjGO",
        "outputId": "dd12c00c-6758-4d18-e475-b4fb4be72fce"
      },
      "execution_count": 4,
      "outputs": [
        {
          "output_type": "stream",
          "name": "stdout",
          "text": [
            "200\n",
            "314.1592653589793\n"
          ]
        }
      ]
    },
    {
      "cell_type": "markdown",
      "source": [
        "***Task***"
      ],
      "metadata": {
        "id": "zLPfkrxxr8IL"
      }
    },
    {
      "cell_type": "code",
      "source": [
        "class Player:\n",
        "  def __init__(self , name , age) -> None:\n",
        "    self.name = name\n",
        "    self.age = age\n",
        "    self.__score = 0\n",
        "\n",
        "\n",
        "  def get_score(self):\n",
        "    return self.__score\n",
        "\n",
        "  def set_score(self , score):\n",
        "    self.__score = score\n",
        "\n",
        "  def update_score(self , score):\n",
        "    self.__score += score\n",
        "\n",
        "\n",
        "player_1 = Player(\"Mustafa\" , 25)\n"
      ],
      "metadata": {
        "id": "_SA6dZkzr5BB"
      },
      "execution_count": 5,
      "outputs": []
    },
    {
      "cell_type": "code",
      "source": [
        "print(player_1.name)\n",
        "print(player_1.age)\n",
        "print(player_1.get_score())\n",
        "player_1.update_score(10)\n",
        "print(player_1.get_score())\n"
      ],
      "metadata": {
        "id": "S_LT1MhQFCoU",
        "colab": {
          "base_uri": "https://localhost:8080/"
        },
        "outputId": "3bfbbe79-bb91-4cff-dd14-5f9cd3a4c34b"
      },
      "execution_count": 6,
      "outputs": [
        {
          "output_type": "stream",
          "name": "stdout",
          "text": [
            "Mustafa\n",
            "25\n",
            "0\n",
            "10\n"
          ]
        }
      ]
    },
    {
      "cell_type": "code",
      "source": [
        "import random\n",
        "\n",
        "class Game:\n",
        "  def __init__(self) -> None:\n",
        "     pass\n",
        "\n",
        "  def play_game():\n",
        "    print(\"Game is playing\")\n",
        "\n",
        "    computer_choice = random.randint(1 , 100)\n",
        "    user_choice = random.randint(1 , 100)\n",
        "\n",
        "\n",
        "    is_user_choice_higher_than_computer = True if user_choice > computer_choice else False\n",
        "    ## This task is incomplete yet\n",
        "\n",
        "\n",
        "\n"
      ],
      "metadata": {
        "id": "5B0e7S4uscD_"
      },
      "execution_count": 7,
      "outputs": []
    },
    {
      "cell_type": "code",
      "source": [
        "from typing import List\n",
        "fruit_list : List[str] = [\"Strawberry\"  , \"Apple\" , \"Mango\" , \"Banana\" , \"Water Melon\"]\n",
        "\n",
        "fruit_list.remove(\"Mango\")\n",
        "fruit_list.append(\"Mango\")\n",
        "\n",
        "\n",
        "\n",
        "print(fruit_list)\n"
      ],
      "metadata": {
        "colab": {
          "base_uri": "https://localhost:8080/"
        },
        "id": "E3EDt4vVx_Vd",
        "outputId": "c985e143-2888-41fe-d1db-59a29e958b84"
      },
      "execution_count": 8,
      "outputs": [
        {
          "output_type": "stream",
          "name": "stdout",
          "text": [
            "['Strawberry', 'Apple', 'Banana', 'Water Melon', 'Mango']\n"
          ]
        }
      ]
    },
    {
      "cell_type": "code",
      "source": [
        "class CustomList:\n",
        "  def __init__(self,  user_list : list[str | int]):\n",
        "    self.user_list = user_list\n",
        "\n",
        "  def get_list(self):\n",
        "    return self.user_list\n",
        "\n",
        "  def add_item(self , item):\n",
        "    self.user_list.append(item)\n",
        "\n",
        "  def remove_item(self , item):\n",
        "    self.user_list.remove(item)\n",
        "\n",
        "  def update_item(self , old_item , new_item):\n",
        "    self.user_list[self.user_list.index(old_item)] = new_item"
      ],
      "metadata": {
        "id": "PMM_pweRG-S5"
      },
      "execution_count": 10,
      "outputs": []
    },
    {
      "cell_type": "code",
      "source": [
        "list = CustomList([1 , 2 , 3, 4])\n",
        "list.add_item(100)\n",
        "list.get_list()"
      ],
      "metadata": {
        "colab": {
          "base_uri": "https://localhost:8080/"
        },
        "id": "DtvjfSngKJsY",
        "outputId": "3134ad99-f177-4898-99fd-653eb63a35cb"
      },
      "execution_count": 12,
      "outputs": [
        {
          "output_type": "execute_result",
          "data": {
            "text/plain": [
              "[1, 2, 3, 4, 100]"
            ]
          },
          "metadata": {},
          "execution_count": 12
        }
      ]
    },
    {
      "cell_type": "code",
      "source": [],
      "metadata": {
        "id": "roppcXNxKgQJ"
      },
      "execution_count": null,
      "outputs": []
    }
  ]
}