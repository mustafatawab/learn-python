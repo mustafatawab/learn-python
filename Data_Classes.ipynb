{
  "nbformat": 4,
  "nbformat_minor": 0,
  "metadata": {
    "colab": {
      "provenance": []
    },
    "kernelspec": {
      "name": "python3",
      "display_name": "Python 3"
    },
    "language_info": {
      "name": "python"
    }
  },
  "cells": [
    {
      "cell_type": "code",
      "execution_count": 2,
      "metadata": {
        "id": "pk-VETYdfo0i",
        "colab": {
          "base_uri": "https://localhost:8080/"
        },
        "outputId": "97b96a78-af1d-4a2a-ce92-5eeee1289966"
      },
      "outputs": [
        {
          "output_type": "stream",
          "name": "stdout",
          "text": [
            "John is eating\n",
            "John is sleeping\n",
            "John is speaking English\n",
            "English is the language of America\n"
          ]
        }
      ],
      "source": [
        "from dataclasses import dataclass\n",
        "from typing import ClassVar\n",
        "\n",
        "@dataclass\n",
        "class American:\n",
        "  name : str\n",
        "  age : int\n",
        "  weight : float\n",
        "\n",
        "  language : ClassVar[str] = 'English'  # the Type of the language is Generic\n",
        "\n",
        "  def eat(self):\n",
        "    print(f\"{self.name} is eating\")\n",
        "\n",
        "  def sleep(self):\n",
        "    print(f\"{self.name} is sleeping\")\n",
        "\n",
        "  def speak(self):\n",
        "    print(f\"{self.name} is speaking {American.language}\")\n",
        "\n",
        "  @staticmethod\n",
        "  def countryLanguage():\n",
        "    print(f\"{American.language} is the language of America\")\n",
        "\n",
        "\n",
        "person = American(\"John\" , 24 , 56.6)\n",
        "\n",
        "person.eat()\n",
        "person.sleep()\n",
        "person.speak()\n",
        "American.countryLanguage()\n",
        "\n",
        ""
      ]
    },
    {
      "cell_type": "code",
      "source": [
        "person.age"
      ],
      "metadata": {
        "colab": {
          "base_uri": "https://localhost:8080/"
        },
        "id": "vAphp1TSmwyi",
        "outputId": "a711d9e8-9aaa-4b0d-88dd-487127020756"
      },
      "execution_count": 3,
      "outputs": [
        {
          "output_type": "execute_result",
          "data": {
            "text/plain": [
              "24"
            ]
          },
          "metadata": {},
          "execution_count": 3
        }
      ]
    },
    {
      "cell_type": "code",
      "source": [
        "person.name"
      ],
      "metadata": {
        "colab": {
          "base_uri": "https://localhost:8080/",
          "height": 36
        },
        "id": "LTaQBBA-n4-C",
        "outputId": "855a9dee-0770-4b50-e89a-ad6bebbc4689"
      },
      "execution_count": 4,
      "outputs": [
        {
          "output_type": "execute_result",
          "data": {
            "text/plain": [
              "'John'"
            ],
            "application/vnd.google.colaboratory.intrinsic+json": {
              "type": "string"
            }
          },
          "metadata": {},
          "execution_count": 4
        }
      ]
    },
    {
      "cell_type": "code",
      "source": [
        "person.weight"
      ],
      "metadata": {
        "colab": {
          "base_uri": "https://localhost:8080/"
        },
        "id": "nlj21b-xn6DP",
        "outputId": "fe7b1f71-37f6-4deb-f4a5-a4c3af0656f1"
      },
      "execution_count": 5,
      "outputs": [
        {
          "output_type": "execute_result",
          "data": {
            "text/plain": [
              "56.6"
            ]
          },
          "metadata": {},
          "execution_count": 5
        }
      ]
    },
    {
      "cell_type": "code",
      "source": [
        "person.language"
      ],
      "metadata": {
        "colab": {
          "base_uri": "https://localhost:8080/",
          "height": 36
        },
        "id": "LMBtdMAKn714",
        "outputId": "f4e9b707-72b0-4ae1-9ff3-7c67b2954da5"
      },
      "execution_count": 6,
      "outputs": [
        {
          "output_type": "execute_result",
          "data": {
            "text/plain": [
              "'English'"
            ],
            "application/vnd.google.colaboratory.intrinsic+json": {
              "type": "string"
            }
          },
          "metadata": {},
          "execution_count": 6
        }
      ]
    },
    {
      "cell_type": "code",
      "source": [
        "American.language"
      ],
      "metadata": {
        "colab": {
          "base_uri": "https://localhost:8080/",
          "height": 36
        },
        "id": "NMtvVsIzn8v-",
        "outputId": "2cbab60e-4d0d-4482-9606-bf504ca14810"
      },
      "execution_count": 7,
      "outputs": [
        {
          "output_type": "execute_result",
          "data": {
            "text/plain": [
              "'English'"
            ],
            "application/vnd.google.colaboratory.intrinsic+json": {
              "type": "string"
            }
          },
          "metadata": {},
          "execution_count": 7
        }
      ]
    },
    {
      "cell_type": "code",
      "source": [
        "American.name"
      ],
      "metadata": {
        "colab": {
          "base_uri": "https://localhost:8080/",
          "height": 141
        },
        "id": "kjngNnZzn-q-",
        "outputId": "2566430b-8f2d-454a-8c4f-5a4b3b13c8e5"
      },
      "execution_count": 8,
      "outputs": [
        {
          "output_type": "error",
          "ename": "AttributeError",
          "evalue": "type object 'American' has no attribute 'name'",
          "traceback": [
            "\u001b[0;31m---------------------------------------------------------------------------\u001b[0m",
            "\u001b[0;31mAttributeError\u001b[0m                            Traceback (most recent call last)",
            "\u001b[0;32m<ipython-input-8-ecfc0fa2a14c>\u001b[0m in \u001b[0;36m<cell line: 0>\u001b[0;34m()\u001b[0m\n\u001b[0;32m----> 1\u001b[0;31m \u001b[0mAmerican\u001b[0m\u001b[0;34m.\u001b[0m\u001b[0mname\u001b[0m\u001b[0;34m\u001b[0m\u001b[0;34m\u001b[0m\u001b[0m\n\u001b[0m",
            "\u001b[0;31mAttributeError\u001b[0m: type object 'American' has no attribute 'name'"
          ]
        }
      ]
    },
    {
      "cell_type": "code",
      "source": [],
      "metadata": {
        "id": "YUmdUhSfn_7g"
      },
      "execution_count": null,
      "outputs": []
    }
  ]
}