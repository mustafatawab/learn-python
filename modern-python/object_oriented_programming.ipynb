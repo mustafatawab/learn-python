{
  "cells": [
    {
      "cell_type": "code",
      "execution_count": 1,
      "metadata": {
        "colab": {
          "base_uri": "https://localhost:8080/"
        },
        "id": "xiXCHPH-9_Cc",
        "outputId": "0dc85d57-2012-40f1-9781-c2d6f5463cc9"
      },
      "outputs": [
        {
          "name": "stdout",
          "output_type": "stream",
          "text": [
            "Mustafa is walking and you can speak \n"
          ]
        }
      ],
      "source": [
        "class Human:\n",
        "    def __init__(self , name):\n",
        "        self.name = name\n",
        "        self.__sound = \"you can speak\" #this is private\n",
        "\n",
        "    def Walk(self):\n",
        "        print(f\"{self.name} is walking and {self.__sound} \")\n",
        "\n",
        "\n",
        "human = Human(\"Mustafa\")\n",
        "human.Walk()\n",
        "# human.__sound"
      ]
    },
    {
      "cell_type": "code",
      "execution_count": 2,
      "metadata": {
        "colab": {
          "base_uri": "https://localhost:8080/"
        },
        "id": "vBf2lMH0-H6c",
        "outputId": "f7dcc8a0-289d-4582-91a5-936e04dec8f5"
      },
      "outputs": [
        {
          "name": "stdout",
          "output_type": "stream",
          "text": [
            "HI, My name is Mustafa\n",
            "Mustafa is studying Python\n"
          ]
        }
      ],
      "source": [
        "class Person:\n",
        "    def __init__(self , name , age) -> None:\n",
        "        self.name = name\n",
        "        self.age = age\n",
        "\n",
        "    def introduce(self):\n",
        "        print(f\"HI, My name is {self.name}\")\n",
        "\n",
        "\n",
        "\n",
        "class Student(Person):\n",
        "  def __init__(self, name, age, course) -> None:\n",
        "      super().__init__(name , age)\n",
        "      self.course = course\n",
        "\n",
        "  def study(self):\n",
        "      print(f\"{self.name} is studying {self.course}\")\n",
        "\n",
        "student = Student(\"Mustafa\" , 25, \"Python\")\n",
        "student.introduce()\n",
        "student.study()\n",
        "\n"
      ]
    },
    {
      "cell_type": "code",
      "execution_count": 2,
      "metadata": {
        "colab": {
          "base_uri": "https://localhost:8080/"
        },
        "id": "EcnQVgnbAaMN",
        "outputId": "ce3f2f26-da62-4fb7-fa62-d728da228fc5"
      },
      "outputs": [
        {
          "name": "stdout",
          "output_type": "stream",
          "text": [
            "Dog is barking\n",
            "Meow Meow\n"
          ]
        }
      ],
      "source": [
        "class Animal:\n",
        "  def makeSound(self):\n",
        "    print(\"Animal is making sound\")\n",
        "\n",
        "\n",
        "class Dog(Animal):\n",
        "  def makeSound(self):\n",
        "     print(\"Dog is barking\")\n",
        "\n",
        "class Cat(Animal):\n",
        "  def makeSound(self):\n",
        "     print(\"Meow Meow\")\n",
        "\n",
        "animal = [Dog() , Cat()]\n",
        "for a in animal:\n",
        "  a.makeSound()"
      ]
    },
    {
      "cell_type": "code",
      "execution_count": 3,
      "metadata": {
        "colab": {
          "base_uri": "https://localhost:8080/"
        },
        "id": "Z2J_5wQ8BjGO",
        "outputId": "dd12c00c-6758-4d18-e475-b4fb4be72fce"
      },
      "outputs": [
        {
          "name": "stdout",
          "output_type": "stream",
          "text": [
            "200\n",
            "314.1592653589793\n"
          ]
        }
      ],
      "source": [
        "from abc import ABC , abstractmethod\n",
        "import math\n",
        "class Shape(ABC):\n",
        "  @abstractmethod\n",
        "  def area(self):\n",
        "    pass\n",
        "\n",
        "class Rectangle(Shape):\n",
        "  def __init__(self, length : float , width : float) -> None:\n",
        "      self.length = length\n",
        "      self.width = width\n",
        "\n",
        "  def area(self):\n",
        "    return self.length * self.width\n",
        "\n",
        "\n",
        "class Circle(Shape):\n",
        "  def area(self , radius : float):\n",
        "     return math.pi * radius ** 2\n",
        "\n",
        "\n",
        "\n",
        "rectangle = Rectangle(10 , 20)\n",
        "print(rectangle.area())\n",
        "\n",
        "circle = Circle()\n",
        "print(circle.area(10))"
      ]
    },
    {
      "cell_type": "markdown",
      "metadata": {
        "id": "zLPfkrxxr8IL"
      },
      "source": [
        "***Task***"
      ]
    },
    {
      "cell_type": "code",
      "execution_count": 4,
      "metadata": {
        "id": "_SA6dZkzr5BB"
      },
      "outputs": [],
      "source": [
        "class Player:\n",
        "  def __init__(self , name , age) -> None:\n",
        "    self.name = name\n",
        "    self.age = age\n",
        "    self.__score = 0\n",
        "\n",
        "\n",
        "  def get_score(self):\n",
        "    return self.__score\n",
        "\n",
        "  def set_score(self , score):\n",
        "    self.__score = score\n",
        "\n",
        "  def update_score(self , score):\n",
        "    self.__score += score\n",
        "\n",
        "\n",
        "player_1 = Player(\"Mustafa\" , 25)\n"
      ]
    },
    {
      "cell_type": "code",
      "execution_count": 5,
      "metadata": {
        "colab": {
          "base_uri": "https://localhost:8080/"
        },
        "id": "S_LT1MhQFCoU",
        "outputId": "3bfbbe79-bb91-4cff-dd14-5f9cd3a4c34b"
      },
      "outputs": [
        {
          "name": "stdout",
          "output_type": "stream",
          "text": [
            "Mustafa\n",
            "25\n",
            "0\n",
            "10\n"
          ]
        }
      ],
      "source": [
        "print(player_1.name)\n",
        "print(player_1.age)\n",
        "print(player_1.get_score())\n",
        "player_1.update_score(10)\n",
        "print(player_1.get_score())\n"
      ]
    },
    {
      "cell_type": "code",
      "execution_count": 7,
      "metadata": {
        "id": "5B0e7S4uscD_"
      },
      "outputs": [],
      "source": [
        "import random\n",
        "\n",
        "class Game:\n",
        "  def __init__(self) -> None:\n",
        "     pass\n",
        "\n",
        "  def play_game():\n",
        "    print(\"Game is playing\")\n",
        "\n",
        "    computer_choice = random.randint(1 , 100)\n",
        "    user_choice = random.randint(1 , 100)\n",
        "\n",
        "\n",
        "    is_user_choice_higher_than_computer = True if user_choice > computer_choice else False\n",
        "    ## This task is incomplete yet\n",
        "\n",
        "\n",
        "\n"
      ]
    },
    {
      "cell_type": "code",
      "execution_count": 8,
      "metadata": {
        "colab": {
          "base_uri": "https://localhost:8080/"
        },
        "id": "E3EDt4vVx_Vd",
        "outputId": "c985e143-2888-41fe-d1db-59a29e958b84"
      },
      "outputs": [
        {
          "name": "stdout",
          "output_type": "stream",
          "text": [
            "['Strawberry', 'Apple', 'Banana', 'Water Melon', 'Mango']\n"
          ]
        }
      ],
      "source": [
        "from typing import List\n",
        "fruit_list : List[str] = [\"Strawberry\"  , \"Apple\" , \"Mango\" , \"Banana\" , \"Water Melon\"]\n",
        "\n",
        "fruit_list.remove(\"Mango\")\n",
        "fruit_list.append(\"Mango\")\n",
        "\n",
        "\n",
        "\n",
        "print(fruit_list)\n"
      ]
    },
    {
      "cell_type": "code",
      "execution_count": 10,
      "metadata": {
        "id": "PMM_pweRG-S5"
      },
      "outputs": [],
      "source": [
        "class CustomList:\n",
        "  def __init__(self,  user_list : list[str | int]):\n",
        "    self.user_list = user_list\n",
        "\n",
        "  def get_list(self):\n",
        "    return self.user_list\n",
        "\n",
        "  def add_item(self , item):\n",
        "    self.user_list.append(item)\n",
        "\n",
        "  def remove_item(self , item):\n",
        "    self.user_list.remove(item)\n",
        "\n",
        "  def update_item(self , old_item , new_item):\n",
        "    self.user_list[self.user_list.index(old_item)] = new_item"
      ]
    },
    {
      "cell_type": "code",
      "execution_count": 12,
      "metadata": {
        "colab": {
          "base_uri": "https://localhost:8080/"
        },
        "id": "DtvjfSngKJsY",
        "outputId": "3134ad99-f177-4898-99fd-653eb63a35cb"
      },
      "outputs": [
        {
          "data": {
            "text/plain": [
              "[1, 2, 3, 4, 100]"
            ]
          },
          "execution_count": 12,
          "metadata": {},
          "output_type": "execute_result"
        }
      ],
      "source": [
        "list = CustomList([1 , 2 , 3, 4])\n",
        "list.add_item(100)\n",
        "list.get_list()"
      ]
    },
    {
      "cell_type": "code",
      "execution_count": null,
      "metadata": {
        "id": "roppcXNxKgQJ"
      },
      "outputs": [
        {
          "name": "stdout",
          "output_type": "stream",
          "text": [
            "101\n",
            "John\n",
            "Hello, my name is 101 and I'm John years old.\n",
            "101 is working in Finance.\n",
            "144000.0\n"
          ]
        }
      ],
      "source": [
        "from dataclasses import dataclass , field\n",
        "\n",
        "@dataclass\n",
        "class Person:\n",
        "  name : str\n",
        "  age : int\n",
        "\n",
        "  def greet(self):\n",
        "    \"\"\" Greeting message \"\"\"\n",
        "    print(f\"Hello, my name is {self.name} and I'm {self.age} years old.\")\n",
        "\n",
        "\n",
        "@dataclass\n",
        "class Employee(Person):\n",
        "  employee_id : int\n",
        "  department : str\n",
        "  salary : float\n",
        "\n",
        "  def work(self) -> None:\n",
        "    print(f\"{self.name} is working in {self.department}.\")\n",
        "\n",
        "  @property  # This funtion will work as an attribute\n",
        "  def annual_salary(self) -> float:\n",
        "    return self.salary * 12\n",
        "\n",
        "\n",
        "\n",
        "\n",
        "# person = Person(\"John\" , 12)\n",
        "employee = Employee(101, \"John\" , 12, \"Finance\" , 12000.0)\n",
        "print(employee.name)\n",
        "print(employee.age)\n",
        "employee.greet()\n",
        "employee.work()\n",
        "print(employee.annual_salary)\n",
        "\n",
        "\n",
        "\n"
      ]
    },
    {
      "cell_type": "code",
      "execution_count": null,
      "metadata": {},
      "outputs": [],
      "source": []
    }
  ],
  "metadata": {
    "colab": {
      "provenance": []
    },
    "kernelspec": {
      "display_name": "Python 3",
      "name": "python3"
    },
    "language_info": {
      "codemirror_mode": {
        "name": "ipython",
        "version": 3
      },
      "file_extension": ".py",
      "mimetype": "text/x-python",
      "name": "python",
      "nbconvert_exporter": "python",
      "pygments_lexer": "ipython3",
      "version": "3.13.3"
    }
  },
  "nbformat": 4,
  "nbformat_minor": 0
}
