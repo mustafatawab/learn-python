{
  "cells": [
    {
      "cell_type": "code",
      "execution_count": null,
      "metadata": {
        "colab": {
          "base_uri": "https://localhost:8080/"
        },
        "id": "pk-VETYdfo0i",
        "outputId": "97b96a78-af1d-4a2a-ce92-5eeee1289966"
      },
      "outputs": [
        {
          "name": "stdout",
          "output_type": "stream",
          "text": [
            "John is eating\n",
            "John is sleeping\n",
            "John is speaking English\n",
            "English is the language of America\n"
          ]
        }
      ],
      "source": [
        "from dataclasses import dataclass\n",
        "from typing import ClassVar\n",
        "\n",
        "@dataclass\n",
        "class American:\n",
        " #static Variable because English use all the americans\n",
        "  national_language : ClassVar[str] = 'English'  # the Type of the language is Generic\n",
        "\n",
        "  #static varible because Humberger eat all americans\n",
        "  national_food : ClassVar[str] = \"Humberger\"\n",
        "\n",
        "  #static variable\n",
        "  normal_temperature  :ClassVar[float] = 98.6\n",
        "\n",
        "  #instance varibale because this is for individual\n",
        "  name : str\n",
        "  age : int\n",
        "  weight : float\n",
        "  liked_food : str  \n",
        "  def eat(self):\n",
        "    print(f\"{self.name} is eating\")\n",
        "\n",
        "  def sleep(self):\n",
        "    print(f\"{self.name} is sleeping\")\n",
        "\n",
        "  def speak(self):\n",
        "    print(f\"{self.name} is speaking {American.national_language}\")\n",
        "\n",
        "  @staticmethod\n",
        "  def countryLanguage():\n",
        "    print(f\"{American.national_language} is the language of America\")\n",
        "\n",
        "\n",
        "person = American(\"John\" , 24 , 56.6)\n",
        "\n",
        "person.eat()\n",
        "person.sleep()\n",
        "person.speak()\n",
        "American.countryLanguage()\n",
        "\n"
      ]
    },
    {
      "cell_type": "code",
      "execution_count": 3,
      "metadata": {
        "colab": {
          "base_uri": "https://localhost:8080/"
        },
        "id": "vAphp1TSmwyi",
        "outputId": "a711d9e8-9aaa-4b0d-88dd-487127020756"
      },
      "outputs": [
        {
          "data": {
            "text/plain": [
              "24"
            ]
          },
          "execution_count": 3,
          "metadata": {},
          "output_type": "execute_result"
        }
      ],
      "source": [
        "person.age"
      ]
    },
    {
      "cell_type": "code",
      "execution_count": 4,
      "metadata": {
        "colab": {
          "base_uri": "https://localhost:8080/",
          "height": 36
        },
        "id": "LTaQBBA-n4-C",
        "outputId": "855a9dee-0770-4b50-e89a-ad6bebbc4689"
      },
      "outputs": [
        {
          "data": {
            "application/vnd.google.colaboratory.intrinsic+json": {
              "type": "string"
            },
            "text/plain": [
              "'John'"
            ]
          },
          "execution_count": 4,
          "metadata": {},
          "output_type": "execute_result"
        }
      ],
      "source": [
        "person.name"
      ]
    },
    {
      "cell_type": "code",
      "execution_count": 5,
      "metadata": {
        "colab": {
          "base_uri": "https://localhost:8080/"
        },
        "id": "nlj21b-xn6DP",
        "outputId": "fe7b1f71-37f6-4deb-f4a5-a4c3af0656f1"
      },
      "outputs": [
        {
          "data": {
            "text/plain": [
              "56.6"
            ]
          },
          "execution_count": 5,
          "metadata": {},
          "output_type": "execute_result"
        }
      ],
      "source": [
        "person.weight"
      ]
    },
    {
      "cell_type": "code",
      "execution_count": 6,
      "metadata": {
        "colab": {
          "base_uri": "https://localhost:8080/",
          "height": 36
        },
        "id": "LMBtdMAKn714",
        "outputId": "f4e9b707-72b0-4ae1-9ff3-7c67b2954da5"
      },
      "outputs": [
        {
          "data": {
            "application/vnd.google.colaboratory.intrinsic+json": {
              "type": "string"
            },
            "text/plain": [
              "'English'"
            ]
          },
          "execution_count": 6,
          "metadata": {},
          "output_type": "execute_result"
        }
      ],
      "source": [
        "person.language"
      ]
    },
    {
      "cell_type": "code",
      "execution_count": 7,
      "metadata": {
        "colab": {
          "base_uri": "https://localhost:8080/",
          "height": 36
        },
        "id": "NMtvVsIzn8v-",
        "outputId": "2cbab60e-4d0d-4482-9606-bf504ca14810"
      },
      "outputs": [
        {
          "data": {
            "application/vnd.google.colaboratory.intrinsic+json": {
              "type": "string"
            },
            "text/plain": [
              "'English'"
            ]
          },
          "execution_count": 7,
          "metadata": {},
          "output_type": "execute_result"
        }
      ],
      "source": [
        "American.language"
      ]
    },
    {
      "cell_type": "code",
      "execution_count": 8,
      "metadata": {
        "colab": {
          "base_uri": "https://localhost:8080/",
          "height": 141
        },
        "id": "kjngNnZzn-q-",
        "outputId": "2566430b-8f2d-454a-8c4f-5a4b3b13c8e5"
      },
      "outputs": [
        {
          "ename": "AttributeError",
          "evalue": "type object 'American' has no attribute 'name'",
          "output_type": "error",
          "traceback": [
            "\u001b[0;31m---------------------------------------------------------------------------\u001b[0m",
            "\u001b[0;31mAttributeError\u001b[0m                            Traceback (most recent call last)",
            "\u001b[0;32m<ipython-input-8-ecfc0fa2a14c>\u001b[0m in \u001b[0;36m<cell line: 0>\u001b[0;34m()\u001b[0m\n\u001b[0;32m----> 1\u001b[0;31m \u001b[0mAmerican\u001b[0m\u001b[0;34m.\u001b[0m\u001b[0mname\u001b[0m\u001b[0;34m\u001b[0m\u001b[0;34m\u001b[0m\u001b[0m\n\u001b[0m",
            "\u001b[0;31mAttributeError\u001b[0m: type object 'American' has no attribute 'name'"
          ]
        }
      ],
      "source": [
        "American.name"
      ]
    },
    {
      "cell_type": "code",
      "execution_count": null,
      "metadata": {
        "id": "YUmdUhSfn_7g"
      },
      "outputs": [
        {
          "name": "stdout",
          "output_type": "stream",
          "text": [
            "Person(name='Alice', age=30, email='alice@gmail.com', tags=['contractor'])\n",
            "Person(name='Bob', age=12, email=None, tags=[])\n",
            "Person(name='Smith', age=17, email=None, tags=['student', 'part-time'])\n"
          ]
        }
      ],
      "source": [
        "from dataclasses import dataclass, field\n",
        "\n",
        "@dataclass #if there is no @dataclass then we must define contructor which was a bad practice. It is currently good practice\n",
        "class Person:\n",
        "  name : str\n",
        "  age : int\n",
        "  email : str | None = None\n",
        "  tags : list[str] = field(default_factory=list)\n",
        "  #tags : list[str] = [] #bad practice\n",
        "\n",
        "\n",
        "  def is_adult(self) -> bool:\n",
        "    \"\"\" Example Method that used the8 dataclass attributes \"\"\"\n",
        "    return self.age >= 18\n",
        "  \n",
        "\n",
        "def demo_good_usage():\n",
        "  person1 = Person(name=\"Alice\" , age=30, email=\"alice@gmail.com\")\n",
        "  person2 = Person(name=\"Bob\" , age=12)\n",
        "  person3 = Person(name=\"Smith\" , age=17, tags=[\"student\" , \"part-time\"])\n",
        "\n",
        "  person1.tags.append(\"contractor\")\n",
        "  print(person1)\n",
        "  print(person2)\n",
        "  print(person3)\n",
        "\n",
        "\n",
        "\n",
        "\n",
        "demo_good_usage()\n",
        "\n",
        "  "
      ]
    },
    {
      "cell_type": "code",
      "execution_count": null,
      "metadata": {},
      "outputs": [],
      "source": [
        "class PersonBad:\n",
        "    def __init__(self, name , age , email=None , tags=None):\n",
        "        self.name = name\n",
        "        self.age = age\n",
        "        self.email = email\n",
        "        self.tags = tags if tags is not None else []\n",
        "    \n",
        "    def __repr__(self):\n",
        "        return f\"Person(name={self.name}, age={self.age}, email={self.email}, tags={self.tags})\"\n",
        "    \n",
        "    def __eq__(self, other):\n",
        "        if not isinstance(other , PersonBad):\n",
        "            return False\n",
        "        return (self.name == other.name and self.age == other.age and self.email == other.email and self.tags == other.tags)\n",
        "    \n",
        "        "
      ]
    }
  ],
  "metadata": {
    "colab": {
      "provenance": []
    },
    "kernelspec": {
      "display_name": "Python 3",
      "name": "python3"
    },
    "language_info": {
      "codemirror_mode": {
        "name": "ipython",
        "version": 3
      },
      "file_extension": ".py",
      "mimetype": "text/x-python",
      "name": "python",
      "nbconvert_exporter": "python",
      "pygments_lexer": "ipython3",
      "version": "3.13.3"
    }
  },
  "nbformat": 4,
  "nbformat_minor": 0
}
