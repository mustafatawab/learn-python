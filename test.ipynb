{
 "cells": [
  {
   "cell_type": "code",
   "execution_count": 50,
   "id": "01ada6b8",
   "metadata": {},
   "outputs": [
    {
     "data": {
      "text/plain": [
       "'hi'"
      ]
     },
     "execution_count": 50,
     "metadata": {},
     "output_type": "execute_result"
    }
   ],
   "source": [
    "\"hi\""
   ]
  },
  {
   "cell_type": "code",
   "execution_count": 51,
   "id": "4cc49e9a",
   "metadata": {},
   "outputs": [
    {
     "name": "stdout",
     "output_type": "stream",
     "text": [
      "Value of maths is 890\n",
      "Value of english is 800\n",
      "Value of physics is 700\n",
      "Value of computer_science is 900\n",
      "Value of chemistry is 670\n"
     ]
    }
   ],
   "source": [
    "# Multiple values store in a single varaible but in key-value pairs\n",
    "subject_marks : dict[str, int] = {\n",
    "    \"maths\" : 890,\n",
    "    \"english\" : 800,\n",
    "    \"physics\" : 700,\n",
    "    \"computer_science\" : 900,\n",
    "    \"chemistry\" : 670\n",
    "} \n",
    "\n",
    "\n",
    "# print(subject_marks[x])\n",
    "# print(subject_marks[\"english\"])\n",
    "# print(subject_marks[\"physics\"])\n",
    "# print(subject_marks.get(\"maths\"))\n",
    "\n",
    "for x in subject_marks:\n",
    "    v = subject_marks[x]\n",
    "    print(f\"Value of {x} is {v}\") \n",
    "    # print(x)"
   ]
  },
  {
   "cell_type": "code",
   "execution_count": 52,
   "id": "3d714e3b",
   "metadata": {},
   "outputs": [
    {
     "name": "stdout",
     "output_type": "stream",
     "text": [
      "Value of x is 8090\n"
     ]
    }
   ],
   "source": [
    "x : int = 8090\n",
    "\n",
    "print(f\"Value of x is {x}\")"
   ]
  },
  {
   "cell_type": "code",
   "execution_count": 53,
   "id": "3a920c7b",
   "metadata": {},
   "outputs": [],
   "source": [
    "subject_marks.clear()"
   ]
  },
  {
   "cell_type": "code",
   "execution_count": 54,
   "id": "f3eafd79",
   "metadata": {},
   "outputs": [
    {
     "data": {
      "text/plain": [
       "{}"
      ]
     },
     "execution_count": 54,
     "metadata": {},
     "output_type": "execute_result"
    }
   ],
   "source": [
    "subject_marks"
   ]
  },
  {
   "cell_type": "code",
   "execution_count": 55,
   "id": "58ddf3ef",
   "metadata": {},
   "outputs": [
    {
     "data": {
      "text/plain": [
       "{'maths': 890,\n",
       " 'english': 800,\n",
       " 'physics': 700,\n",
       " 'computer_science': 900,\n",
       " 'chemistry': 670}"
      ]
     },
     "execution_count": 55,
     "metadata": {},
     "output_type": "execute_result"
    }
   ],
   "source": [
    "subject_marks : dict[str, int] = {\n",
    "    \"maths\" : 890,\n",
    "    \"english\" : 800,\n",
    "    \"physics\" : 700,\n",
    "    \"computer_science\" : 900,\n",
    "    \"chemistry\" : 670\n",
    "} \n",
    "\n",
    "\n",
    "copied_dict = subject_marks.copy()\n",
    "copied_dict"
   ]
  },
  {
   "cell_type": "code",
   "execution_count": 56,
   "id": "ee978108",
   "metadata": {},
   "outputs": [],
   "source": [
    "copied_dict.clear()"
   ]
  },
  {
   "cell_type": "code",
   "execution_count": 57,
   "id": "ca35ba06",
   "metadata": {},
   "outputs": [
    {
     "name": "stdout",
     "output_type": "stream",
     "text": [
      "{}\n",
      "{'maths': 890, 'english': 800, 'physics': 700, 'computer_science': 900, 'chemistry': 670}\n"
     ]
    }
   ],
   "source": [
    "print(copied_dict)\n",
    "print(subject_marks)"
   ]
  },
  {
   "cell_type": "code",
   "execution_count": 58,
   "id": "290c60cc",
   "metadata": {},
   "outputs": [
    {
     "name": "stdout",
     "output_type": "stream",
     "text": [
      "{900: None, 230: None, 234: None}\n"
     ]
    }
   ],
   "source": [
    "marks: list = [900, 230, 234]\n",
    "mydict = subject_marks.fromkeys(marks)\n",
    "print(mydict)"
   ]
  },
  {
   "cell_type": "code",
   "execution_count": 59,
   "id": "83d96e41",
   "metadata": {},
   "outputs": [
    {
     "data": {
      "text/plain": [
       "890"
      ]
     },
     "execution_count": 59,
     "metadata": {},
     "output_type": "execute_result"
    }
   ],
   "source": [
    "subject_marks.get(\"maths\", 1)"
   ]
  },
  {
   "cell_type": "code",
   "execution_count": 60,
   "id": "b9cc0505",
   "metadata": {},
   "outputs": [
    {
     "data": {
      "text/plain": [
       "dict_items([('maths', 890), ('english', 800), ('physics', 700), ('computer_science', 900), ('chemistry', 670)])"
      ]
     },
     "execution_count": 60,
     "metadata": {},
     "output_type": "execute_result"
    }
   ],
   "source": [
    "subject_marks.items()"
   ]
  },
  {
   "cell_type": "code",
   "execution_count": 61,
   "id": "493aad2a",
   "metadata": {},
   "outputs": [
    {
     "name": "stdout",
     "output_type": "stream",
     "text": [
      "(9090, 799, 799, 799, 399, 2399, 23, 235, 344, 1, 10, 2)\n",
      "('hello', 'msutafa', 'jamak', 'ali', 'zahoor', 'ghufran')\n"
     ]
    }
   ],
   "source": [
    "marks : tuple[int | str , ...] = (9090, 799,799,799, 399, 2399, 23, 235, 344, 1, 10, 2)\n",
    "print(marks)\n",
    "\n",
    "\n",
    "names = ('hello' , \"msutafa\" , \"jamak\" , 'ali' , 'zahoor' , \"ghufran\")\n",
    "print(names)"
   ]
  },
  {
   "cell_type": "code",
   "execution_count": 62,
   "id": "bc4f6d4c",
   "metadata": {},
   "outputs": [
    {
     "name": "stdout",
     "output_type": "stream",
     "text": [
      "{9090, 344, 799, 23, 399, 235, 2399}\n"
     ]
    }
   ],
   "source": [
    "marks: set[int] = {9090, 799,799,799,799, 399, 2399, 23, 235, 344}\n",
    "print(marks)\n"
   ]
  },
  {
   "cell_type": "code",
   "execution_count": 72,
   "id": "18471897",
   "metadata": {},
   "outputs": [
    {
     "name": "stdout",
     "output_type": "stream",
     "text": [
      " \n",
      "1. Add Item\n",
      "2. Remove Item\n",
      "3. Update Quantity\n",
      "4. Display Inventory\n",
      "5. Exit\n",
      " \n"
     ]
    }
   ],
   "source": [
    "items: list[dict[str, str | int]] = [{}]\n",
    "\n",
    "\n",
    "\n",
    "while True:\n",
    "    print(\"\"\" \n",
    "1. Add Item\n",
    "2. Remove Item\n",
    "3. Update Quantity\n",
    "4. Display Inventory\n",
    "5. Exit\n",
    " \"\"\")\n",
    "    user_input = int(input(\"\\nSelect the above options\"))\n",
    "\n",
    "    match user_input:\n",
    "        case 1:\n",
    "            item_name = input(\"Enter item name\")\n",
    "            quantity = int(input(\"Enter quantity in numbers\"))\n",
    "            items[\"name\"] = item_name\n",
    "            items[\"quantity\"] = quantity\n",
    "            ...\n",
    "        case 2:\n",
    "           ...\n",
    "        case 3:\n",
    "            ...\n",
    "        case 4:\n",
    "             print(items)\n",
    "        case 5:\n",
    "            break\n",
    "        case _:\n",
    "            print(\"You Choose invalid\")\n",
    "            break\n"
   ]
  },
  {
   "cell_type": "code",
   "execution_count": null,
   "id": "c078b414",
   "metadata": {},
   "outputs": [],
   "source": []
  }
 ],
 "metadata": {
  "kernelspec": {
   "display_name": "Python 3",
   "language": "python",
   "name": "python3"
  },
  "language_info": {
   "codemirror_mode": {
    "name": "ipython",
    "version": 3
   },
   "file_extension": ".py",
   "mimetype": "text/x-python",
   "name": "python",
   "nbconvert_exporter": "python",
   "pygments_lexer": "ipython3",
   "version": "3.13.5"
  }
 },
 "nbformat": 4,
 "nbformat_minor": 5
}
