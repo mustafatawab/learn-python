{
  "cells": [
    {
      "cell_type": "markdown",
      "metadata": {
        "id": "uQ60gc68kT_o"
      },
      "source": [
        "Joke Bot\n",
        "\n"
      ]
    },
    {
      "cell_type": "code",
      "execution_count": null,
      "metadata": {
        "colab": {
          "base_uri": "https://localhost:8080/"
        },
        "id": "IoyaZbDHhVqq",
        "outputId": "961d3eee-9e80-44b9-8c4d-a75a15012dfb"
      },
      "outputs": [
        {
          "name": "stdout",
          "output_type": "stream",
          "text": [
            "what do you want?joke\n",
            "Here is a joke for you. Every software engineer is a programmer. HAHAHA\n"
          ]
        }
      ],
      "source": [
        "\n",
        "\n",
        "def print_joke() -> None:\n",
        "      PROMPT : str = \"what do you want?\"\n",
        "      user_input : str = input(PROMPT)\n",
        "      if user_input.lower() == 'joke':\n",
        "        print(\"Here is a joke for you. Every software engineer is a programmer. HAHAHA\")\n",
        "\n",
        "      else:\n",
        "        print(\"Sorry, I just tell jokes\")\n",
        "\n",
        "\n",
        "\n",
        "\n",
        "print_joke()"
      ]
    },
    {
      "cell_type": "code",
      "execution_count": null,
      "metadata": {
        "colab": {
          "base_uri": "https://localhost:8080/"
        },
        "id": "o5uHj3ykhvo5",
        "outputId": "181b6fe9-b248-42b8-a0f9-021597f2790c"
      },
      "outputs": [
        {
          "name": "stdout",
          "output_type": "stream",
          "text": [
            "Enter a number12\n",
            "24 48 96 192 "
          ]
        }
      ],
      "source": [
        "user_input  = int(input(\"Enter a number\"))\n",
        "\n",
        "while user_input <= 100:\n",
        "  user_input *= 2\n",
        "  print(user_input , end=\" \")"
      ]
    },
    {
      "cell_type": "code",
      "execution_count": null,
      "metadata": {
        "colab": {
          "base_uri": "https://localhost:8080/"
        },
        "id": "XMdoFhwXnjuL",
        "outputId": "0499f6e0-01de-4241-8215-349bc6f67c0c"
      },
      "outputs": [
        {
          "name": "stdout",
          "output_type": "stream",
          "text": [
            "9 8 7 6 5 4 3 2 1 BOOM\n",
            "0 "
          ]
        }
      ],
      "source": [
        "\n",
        "countDown : int  = 10\n",
        "for i in range(countDown):\n",
        "  countDown -= 1\n",
        "  print(countDown , end=' ')\n",
        "  if(countDown == 1):\n",
        "    print(\"BOOM\")\n"
      ]
    },
    {
      "cell_type": "code",
      "execution_count": null,
      "metadata": {
        "colab": {
          "base_uri": "https://localhost:8080/"
        },
        "id": "fXKadDrBozrP",
        "outputId": "e736aa81-5412-4273-b749-ee13aab5a0c1"
      },
      "outputs": [
        {
          "name": "stdout",
          "output_type": "stream",
          "text": [
            "10 9 8 7 6 5 4 3 2 1 lift off\n"
          ]
        }
      ],
      "source": [
        "for i in range(10 , 0 , -1):\n",
        "  print(i , end=' ')\n",
        "\n",
        "print(\"lift off\")\n",
        "\n"
      ]
    },
    {
      "cell_type": "code",
      "execution_count": null,
      "metadata": {
        "id": "RGScL9bQp4rZ"
      },
      "outputs": [],
      "source": [
        "def countdown():\n",
        "  number_list : list[int] = [10 , 9 , 8 , 7 , 6 , 5, 4, 3, 2, 1]\n",
        "  for i in number_list:\n",
        "    print(i , end=\" \")\n",
        "\n",
        "  print(\"Liftoff\")"
      ]
    },
    {
      "cell_type": "code",
      "execution_count": null,
      "metadata": {
        "colab": {
          "base_uri": "https://localhost:8080/"
        },
        "id": "VzMVDRMerSQo",
        "outputId": "ed05daaa-de29-447b-ce6e-79613d501a3e"
      },
      "outputs": [
        {
          "name": "stdout",
          "output_type": "stream",
          "text": [
            "10 9 8 7 6 5 4 3 2 1 Liftoff\n"
          ]
        }
      ],
      "source": [
        "countdown()"
      ]
    },
    {
      "cell_type": "code",
      "execution_count": null,
      "metadata": {
        "colab": {
          "base_uri": "https://localhost:8080/"
        },
        "id": "AX3xUzU7rTRw",
        "outputId": "de316a22-690c-467f-95d3-e214376ec908"
      },
      "outputs": [
        {
          "name": "stdout",
          "output_type": "stream",
          "text": [
            "Try Again\n",
            "I am thinking numbers from 1 to 100. Guess the number1\n",
            "Too Low\n",
            "Do you want to play again? (yes or no)no\n"
          ]
        }
      ],
      "source": [
        "import random\n",
        "\n",
        "def guessGame()->str:\n",
        "  number : int = random.randint(1 , 100)\n",
        "  user_input = int(input(\"I am thinking numbers from 1 to 100. Guess the number\"))\n",
        "  if(user_input < number):\n",
        "    return \"Too Low\"\n",
        "  elif(user_input > number):\n",
        "    return \"Too High\"\n",
        "  elif(user_input == number):\n",
        "    return \"You Guess the Correct\"\n",
        "\n",
        "def TryAgain():\n",
        "    print(\"Try Again\")\n",
        "    again : str = \"yes\"\n",
        "    while True:\n",
        "      print(guessGame())\n",
        "      again = input(\"Do you want to play again? (yes or no)\")\n",
        "      if(again == \"yes\"):\n",
        "        continue\n",
        "      else:\n",
        "        break\n",
        "\n",
        "\n",
        "\n",
        "\n",
        "TryAgain()\n"
      ]
    },
    {
      "cell_type": "markdown",
      "metadata": {
        "id": "fBaWpuQ8EM93"
      },
      "source": [
        "Generate random numbers from 1 to 100 but total numbers should be 10"
      ]
    },
    {
      "cell_type": "code",
      "execution_count": null,
      "metadata": {
        "colab": {
          "base_uri": "https://localhost:8080/"
        },
        "id": "VVubHw2UQYw8",
        "outputId": "2631ec06-23fb-4a7b-e6d9-5d2e3c7bd042"
      },
      "outputs": [
        {
          "name": "stdout",
          "output_type": "stream",
          "text": [
            "73 61 70 97 58 30 12 16 49\n"
          ]
        }
      ],
      "source": [
        "from random import randint\n",
        "\n",
        "def GenerateRandomNumbers():\n",
        "  MINIMUM_NUMBER : int = 1\n",
        "  MAXIMUM_NUMBER : int = 100\n",
        "\n",
        "  random_list : list[int] = []\n",
        "  for i in range(1 , 10):\n",
        "    randomNumber = randint(MINIMUM_NUMBER , MAXIMUM_NUMBER)\n",
        "    random_list.append(randomNumber)\n",
        "\n",
        "\n",
        "  # for number in random_list:\n",
        "  #   print(number , end=\" \")\n",
        "  print(*random_list)\n",
        "\n",
        "\n",
        "GenerateRandomNumbers()\n"
      ]
    },
    {
      "cell_type": "code",
      "execution_count": null,
      "metadata": {
        "colab": {
          "base_uri": "https://localhost:8080/"
        },
        "id": "XQ82wDoTAlza",
        "outputId": "9300cea2-5fd2-460f-abb9-7188c729eff3"
      },
      "outputs": [
        {
          "name": "stdout",
          "output_type": "stream",
          "text": [
            "37 18 44 57 88 42 16 35 36 23\n"
          ]
        }
      ],
      "source": [
        "import numpy as np\n",
        "\n",
        "MINIMUM_NUMBER : int = 1\n",
        "MAXIMUM_NUMBER : int = 101\n",
        "\n",
        "random_array = np.random.randint(MINIMUM_NUMBER , MAXIMUM_NUMBER , 10)\n",
        "\n",
        "print(*random_array)"
      ]
    },
    {
      "cell_type": "code",
      "execution_count": null,
      "metadata": {
        "id": "23BvTqy7EjnK"
      },
      "outputs": [],
      "source": [
        "def CalculateWeighOnMars():\n",
        "  \"\"\" You have to calculate weight on mars accoring to your weight on earch  \"\"\"\n",
        "  MARS_CONSTANT : float = 0.378\n",
        "\n",
        "  weight : float = float(input(\"Enter your weight on earth : \"))\n",
        "\n",
        "  weight_on_mars = round((weight * MARS_CONSTANT) , 2)\n",
        "  print(\"Your weight on mars is equavalant to \" , weight_on_mars)"
      ]
    },
    {
      "cell_type": "code",
      "execution_count": null,
      "metadata": {
        "colab": {
          "base_uri": "https://localhost:8080/"
        },
        "id": "8mslDXn_I5W-",
        "outputId": "b41912c6-a9f7-48ea-ece3-e6bc39ea0345"
      },
      "outputs": [
        {
          "name": "stdout",
          "output_type": "stream",
          "text": [
            "Enter your weight on earth : 68\n",
            "Your weight on mars is equavalant to  25.7\n"
          ]
        }
      ],
      "source": [
        "CalculateWeighOnMars()"
      ]
    },
    {
      "cell_type": "code",
      "execution_count": null,
      "metadata": {
        "colab": {
          "base_uri": "https://localhost:8080/"
        },
        "id": "TrN3MkGRI63G",
        "outputId": "e3fecba6-f95c-4416-fa4f-a2775633c963"
      },
      "outputs": [
        {
          "name": "stdout",
          "output_type": "stream",
          "text": [
            "Available planets:\n",
            "- Mercury :   3.7\n",
            "- Venus :   8.87\n",
            "- Earth :   9.807\n",
            "- Mars :   3.711\n",
            "- Jupiter :   24.79\n",
            "- Saturn :   10.44\n",
            "- Uranus :   8.69\n",
            "- Neptune :   11.15\n",
            "- Pluto :   0.62\n",
            "Enter the name of the planet in above options  mars\n",
            "Enter your weight on Earth (kg): 50\n",
            "Your weight on Mars is  185.55\n"
          ]
        }
      ],
      "source": [
        "# prompt: write all garvity constant for all planets\n",
        "\n",
        "# Gravity constants for all planets (in m/s^2)\n",
        "PLANET_GRAVITY = {\n",
        "    \"Mercury\": 3.7,\n",
        "    \"Venus\": 8.87,\n",
        "    \"Earth\": 9.807,\n",
        "    \"Mars\": 3.711,\n",
        "    \"Jupiter\": 24.79,\n",
        "    \"Saturn\": 10.44,\n",
        "    \"Uranus\": 8.69,\n",
        "    \"Neptune\": 11.15,\n",
        "    \"Pluto\": 0.62\n",
        "}\n",
        "\n",
        "\n",
        "\n",
        "\n",
        "def calculate_weight_on_planet():\n",
        "    \"\"\" Calculate weight on a specific planet based on Earth weight \"\"\"\n",
        "    print(\"Available planets:\")\n",
        "    for planet in PLANET_GRAVITY:\n",
        "        print(f\"- {planet} :   {PLANET_GRAVITY[planet]}\")\n",
        "\n",
        "    planet_name = input(\"Enter the name of the planet in above options  \").capitalize()\n",
        "\n",
        "    while True:\n",
        "        try:\n",
        "          earth_weight = float(input(\"Enter your weight on Earth (kg): \"))\n",
        "          break\n",
        "        except ValueError:\n",
        "          earth_weight = float(input(\"Please enter in number : \"))\n",
        "          continue\n",
        "\n",
        "    if planet_name in PLANET_GRAVITY:\n",
        "      print(f\"Your weight on {planet_name} is  {(earth_weight * PLANET_GRAVITY[planet_name]):.2f}\")\n",
        "\n",
        "calculate_weight_on_planet()"
      ]
    },
    {
      "cell_type": "code",
      "execution_count": null,
      "metadata": {
        "id": "qnmPMBrdL6O5"
      },
      "outputs": [],
      "source": []
    },
    {
      "cell_type": "code",
      "execution_count": null,
      "metadata": {
        "id": "qhSiqbkJL8Ra"
      },
      "outputs": [],
      "source": []
    }
  ],
  "metadata": {
    "colab": {
      "provenance": []
    },
    "kernelspec": {
      "display_name": "Python 3",
      "name": "python3"
    },
    "language_info": {
      "name": "python"
    }
  },
  "nbformat": 4,
  "nbformat_minor": 0
}
