{
 "cells": [
  {
   "cell_type": "markdown",
   "id": "c9f6ffdf",
   "metadata": {},
   "source": [
    "## Immutable Dataclass\n",
    "`` The instance cannot be modified after creation. It means the field will not be modified when an instance is created ``"
   ]
  },
  {
   "cell_type": "code",
   "execution_count": 16,
   "id": "c070c6f5",
   "metadata": {},
   "outputs": [
    {
     "data": {
      "text/plain": [
       "'hello world'"
      ]
     },
     "execution_count": 16,
     "metadata": {},
     "output_type": "execute_result"
    }
   ],
   "source": [
    "\"hello world\""
   ]
  },
  {
   "cell_type": "code",
   "execution_count": 17,
   "id": "7b78a4b3",
   "metadata": {},
   "outputs": [
    {
     "name": "stdout",
     "output_type": "stream",
     "text": [
      "Point(x=12, y=20)\n",
      "cannot assign to field 'x' Because it is immutable\n"
     ]
    }
   ],
   "source": [
    "from dataclasses import dataclass\n",
    "\n",
    "@dataclass(frozen=True)\n",
    "class Point:\n",
    "    x : float\n",
    "    y : float\n",
    "\n",
    "\n",
    "p = Point(x=12 , y=20)\n",
    "\n",
    "print(p)\n",
    "\n",
    "try:\n",
    "    p.x = 90\n",
    "except Exception as e:\n",
    "    print(e , \"Because it is immutable\")\n",
    "\n",
    "\n"
   ]
  },
  {
   "cell_type": "code",
   "execution_count": 18,
   "id": "60f0ed65",
   "metadata": {},
   "outputs": [],
   "source": [
    "from dataclasses import dataclass\n",
    "\n",
    "@dataclass(frozen=True)\n",
    "class Rectangle:\n",
    "    top_left : Point\n",
    "    bottom_right : Point\n",
    "\n",
    "\n",
    "\n",
    "    @property\n",
    "    def width(self) -> float:\n",
    "        return (self.top_left.x - self.bottom_right.x)\n",
    "    \n",
    "    @property\n",
    "    def height(self) -> float:\n",
    "        return (self.top_left.y - self.bottom_right.y)\n",
    "\n",
    "    @property\n",
    "    def area(self) -> float:\n",
    "        return (self.width * self.height)\n",
    "    \n",
    "\n"
   ]
  },
  {
   "cell_type": "code",
   "execution_count": 35,
   "id": "845a400c",
   "metadata": {},
   "outputs": [],
   "source": [
    "from typing import Tuple , FrozenSet\n",
    "from dataclasses import field , dataclass\n",
    "\n",
    "@dataclass(frozen=True)\n",
    "class ImmutableConfig:\n",
    "    \"\"\"Configuration that cannot be changed after creation.\"\"\"\n",
    "    app_name: str\n",
    "    version: str\n",
    "    max_connections: int\n",
    "    # Using immutable types for collections\n",
    "    allowed_paths: Tuple[str, ...] = field(default_factory=tuple)\n",
    "    feature_flags: FrozenSet[str] = field(default_factory=frozenset)\n",
    "    \n",
    "    def __post_init__(self):\n",
    "        \"\"\"Validate the configuration after initialization.\"\"\"\n",
    "        # Since we can't modify self directly in a frozen dataclass, this only validates\n",
    "        if not self.app_name:\n",
    "            raise ValueError(\"App name cannot be empty\")\n",
    "        if self.max_connections <= 0:\n",
    "            raise ValueError(\"Max connections must be positive\")"
   ]
  },
  {
   "cell_type": "code",
   "execution_count": 38,
   "id": "0e9525a4",
   "metadata": {},
   "outputs": [
    {
     "name": "stdout",
     "output_type": "stream",
     "text": [
      "Point(x=2, y=3)\n",
      "Point(x=5, y=8)\n",
      "Rectangle(top_left=Point(x=2, y=3), bottom_right=Point(x=5, y=8))\n",
      "Area of rectanglge with the given width of -3 and given height of -5 =  15\n",
      "Cannot be modified because of immuatable\n",
      "Config: ImmutableConfig(app_name='MyApp', version='1.0.0', max_connections=100, allowed_paths=('/api', '/public', '/assets'), feature_flags=frozenset({'dark_mode', 'new_ui'}))\n"
     ]
    }
   ],
   "source": [
    "if __name__ == \"__main__\":\n",
    "    \n",
    "    p1 = Point(2 , 3)\n",
    "    p2 = Point(5 , 8)\n",
    "    print(p1)\n",
    "    print(p2)\n",
    "\n",
    "    rec = Rectangle(p1 , p2)\n",
    "    print(rec)\n",
    "    print(f\"Area of rectanglge with the given width of {rec.width} and given height of {rec.height} = \" ,rec.area)\n",
    "\n",
    "    try:\n",
    "        rec.top_left = Point(10 , 20)\n",
    "    except Exception as e:\n",
    "        print(\"Cannot be modified because of immuatable\")\n",
    "\n",
    "    #create an immutable configuration\n",
    "    config = ImmutableConfig(\n",
    "        app_name=\"MyApp\",\n",
    "        version=\"1.0.0\",\n",
    "        max_connections=100,\n",
    "        allowed_paths=(\"/api\", \"/public\", \"/assets\"),\n",
    "        feature_flags=frozenset({\"dark_mode\", \"new_ui\"})\n",
    "    )\n",
    "    \n",
    "    print(f\"Config: {config}\")\n"
   ]
  },
  {
   "cell_type": "code",
   "execution_count": 41,
   "id": "05a77274",
   "metadata": {},
   "outputs": [
    {
     "name": "stdout",
     "output_type": "stream",
     "text": [
      "=== GOOD IMMUTABLE DATACLASS EXAMPLES ===\n",
      "\n",
      "=== BAD IMMUTABLE DATACLASS EXAMPLES ===\n",
      "\n",
      "=== BAD IMMUTABLE DATACLASS EXAMPLE ===\n",
      "Original: BadImmutable(name='example', values=[1, 2, 3], metadata={'key': 'value'})\n",
      "Cannot modify attribute: cannot assign to field 'name'\n",
      "After modifications to internal mutable objects: BadImmutable(name='example', values=[1, 2, 3, 4], metadata={'key': 'value', 'new_key': 'new_value'})\n",
      "This breaks immutability expectations!\n",
      "\n",
      "=== ISSUES WITH INITIALIZING FROZEN DATACLASSES ===\n",
      "BadInitImmutable error: cannot assign to field 'value'\n",
      "GoodInitImmutable: GoodInitImmutable(value=5, squared=25)\n"
     ]
    }
   ],
   "source": [
    "# BAD EXAMPLE 1: Mutable attributes in immutable dataclass\n",
    "from typing import Dict , List \n",
    "\n",
    "@dataclass(frozen=True)\n",
    "class BadImmutable:\n",
    "    name: str\n",
    "    # A mutable list in an \"immutable\" class\n",
    "    values: List[int] = field(default_factory=list)\n",
    "    # A mutable dict in an \"immutable\" class\n",
    "    metadata: Dict[str, str] = field(default_factory=dict)\n",
    "\n",
    "\n",
    "def demo_bad_immutable():\n",
    "    # Create a supposedly immutable object\n",
    "    bad = BadImmutable(\"example\", [1, 2, 3], {\"key\": \"value\"})\n",
    "    \n",
    "    print(\"\\n=== BAD IMMUTABLE DATACLASS EXAMPLE ===\")\n",
    "    print(f\"Original: {bad}\")\n",
    "    \n",
    "    # The object itself is immutable (can't reassign attributes)\n",
    "    try:\n",
    "        bad.name = \"new_name\"\n",
    "    except Exception as e:\n",
    "        print(f\"Cannot modify attribute: {e}\")\n",
    "    \n",
    "    # But you can modify the mutable contents!\n",
    "    bad.values.append(4)\n",
    "    bad.metadata[\"new_key\"] = \"new_value\"\n",
    "    \n",
    "    print(f\"After modifications to internal mutable objects: {bad}\")\n",
    "    print(\"This breaks immutability expectations!\")\n",
    "\n",
    "\n",
    "# BAD EXAMPLE 2: Trying to use __init__ to modify a frozen dataclass\n",
    "@dataclass(frozen=True)\n",
    "class BadInitImmutable:\n",
    "    value: int\n",
    "    squared: int = None  # We want to compute this in init\n",
    "    \n",
    "    def __init__(self, value: int):\n",
    "        # This will fail!\n",
    "        self.value = value\n",
    "        self.squared = value ** 2\n",
    "\n",
    "\n",
    "# FIXED EXAMPLE: Using __post_init__ and object.__setattr__ for initialization\n",
    "@dataclass(frozen=True)\n",
    "class GoodInitImmutable:\n",
    "    value: int\n",
    "    squared: int = field(init=False)  # Don't include in init parameters\n",
    "    \n",
    "    def __post_init__(self):\n",
    "        # Use object.__setattr__ to bypass the frozen restriction during initialization\n",
    "        object.__setattr__(self, \"squared\", self.value ** 2)\n",
    "\n",
    "\n",
    "def demo_init_issues():\n",
    "    print(\"\\n=== ISSUES WITH INITIALIZING FROZEN DATACLASSES ===\")\n",
    "    \n",
    "    # This will fail\n",
    "    try:\n",
    "        bad_init = BadInitImmutable(5)\n",
    "        print(f\"BadInitImmutable: {bad_init}\")\n",
    "    except Exception as e:\n",
    "        print(f\"BadInitImmutable error: {e}\")\n",
    "    \n",
    "    # This works correctly\n",
    "    good_init = GoodInitImmutable(5)\n",
    "    print(f\"GoodInitImmutable: {good_init}\")\n",
    "\n",
    "\n",
    "if __name__ == \"__main__\":\n",
    "    print(\"=== GOOD IMMUTABLE DATACLASS EXAMPLES ===\")\n",
    "    \n",
    "    print(\"\\n=== BAD IMMUTABLE DATACLASS EXAMPLES ===\")\n",
    "    demo_bad_immutable()\n",
    "    \n",
    "    demo_init_issues() "
   ]
  },
  {
   "cell_type": "code",
   "execution_count": null,
   "id": "b825538c",
   "metadata": {},
   "outputs": [],
   "source": []
  }
 ],
 "metadata": {
  "kernelspec": {
   "display_name": "Python 3",
   "language": "python",
   "name": "python3"
  },
  "language_info": {
   "codemirror_mode": {
    "name": "ipython",
    "version": 3
   },
   "file_extension": ".py",
   "mimetype": "text/x-python",
   "name": "python",
   "nbconvert_exporter": "python",
   "pygments_lexer": "ipython3",
   "version": "3.13.3"
  }
 },
 "nbformat": 4,
 "nbformat_minor": 5
}
