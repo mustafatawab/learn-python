{
 "cells": [
  {
   "cell_type": "markdown",
   "id": "224f3c04",
   "metadata": {},
   "source": [
    "## Generic\n",
    "Generics let you create functions , methods or classes that can work with multiple types while preserving type relationships.\n",
    "\n",
    "* Better Communicate the intent of code\n",
    "* Allow static type checking to verify correctness\n",
    "* In python you can define Generics using TypeVar. First import it."
   ]
  },
  {
   "cell_type": "code",
   "execution_count": 2,
   "id": "7dcef061",
   "metadata": {},
   "outputs": [
    {
     "name": "stdout",
     "output_type": "stream",
     "text": [
      "12\n",
      "A\n"
     ]
    }
   ],
   "source": [
    "from typing import TypeVar\n",
    "\n",
    "# Think of T is fill in the blanks. \n",
    "# This decide the type on the runtime.\n",
    "T = TypeVar('T')\n",
    "\n",
    "def generic_first_element(items : list[T]) -> T:\n",
    "    return items[0]\n",
    "\n",
    "\n",
    "num = [12, 14 , 14]\n",
    "name=[\"A\",\"B\",\"C\"]\n",
    "\n",
    "print(generic_first_element(num))\n",
    "print(generic_first_element(name))\n",
    "\n"
   ]
  },
  {
   "cell_type": "code",
   "execution_count": 2,
   "id": "5702eb41",
   "metadata": {},
   "outputs": [
    {
     "ename": "TypeError",
     "evalue": "'_SpecialForm' object does not support item assignment",
     "output_type": "error",
     "traceback": [
      "\u001b[31m---------------------------------------------------------------------------\u001b[39m",
      "\u001b[31mTypeError\u001b[39m                                 Traceback (most recent call last)",
      "\u001b[36mCell\u001b[39m\u001b[36m \u001b[39m\u001b[32mIn[2]\u001b[39m\u001b[32m, line 7\u001b[39m\n\u001b[32m      2\u001b[39m \u001b[38;5;28;01mfrom\u001b[39;00m\u001b[38;5;250m \u001b[39m\u001b[34;01mtyping\u001b[39;00m\u001b[38;5;250m \u001b[39m\u001b[38;5;28;01mimport\u001b[39;00m Generic,ClassVar, TypeVar\n\u001b[32m      4\u001b[39m T = TypeVar(\u001b[33m\"\u001b[39m\u001b[33mT\u001b[39m\u001b[33m\"\u001b[39m)\n\u001b[32m      6\u001b[39m \u001b[38;5;129;43m@dataclass\u001b[39;49m\n\u001b[32m----> \u001b[39m\u001b[32m7\u001b[39m \u001b[38;5;28;43;01mclass\u001b[39;49;00m\u001b[38;5;250;43m \u001b[39;49m\u001b[34;43;01mStack\u001b[39;49;00m\u001b[43m(\u001b[49m\u001b[43mGeneric\u001b[49m\u001b[43m[\u001b[49m\u001b[43mT\u001b[49m\u001b[43m]\u001b[49m\u001b[43m)\u001b[49m\u001b[43m:\u001b[49m\n\u001b[32m      8\u001b[39m \u001b[43m    \u001b[49m\u001b[43mitems\u001b[49m\u001b[43m \u001b[49m\u001b[43m:\u001b[49m\u001b[43m \u001b[49m\u001b[38;5;28;43mlist\u001b[39;49m\u001b[43m[\u001b[49m\u001b[43mT\u001b[49m\u001b[43m]\u001b[49m\u001b[43m \u001b[49m\u001b[43m=\u001b[49m\u001b[43m \u001b[49m\u001b[43mfield\u001b[49m\u001b[43m(\u001b[49m\u001b[43mdefault_factory\u001b[49m\u001b[43m=\u001b[49m\u001b[38;5;28;43mlist\u001b[39;49m\u001b[43m)\u001b[49m\n\u001b[32m      9\u001b[39m \u001b[43m    \u001b[49m\u001b[43mlimit\u001b[49m\u001b[43m \u001b[49m\u001b[43m=\u001b[49m\u001b[43m \u001b[49m\u001b[43mClassVar\u001b[49m\u001b[43m[\u001b[49m\u001b[38;5;28;43mint\u001b[39;49m\u001b[43m]\u001b[49m\u001b[43m \u001b[49m\u001b[43m=\u001b[49m\u001b[43m \u001b[49m\u001b[32;43m10\u001b[39;49m\n",
      "\u001b[36mCell\u001b[39m\u001b[36m \u001b[39m\u001b[32mIn[2]\u001b[39m\u001b[32m, line 9\u001b[39m, in \u001b[36mStack\u001b[39m\u001b[34m()\u001b[39m\n\u001b[32m      6\u001b[39m \u001b[38;5;129m@dataclass\u001b[39m\n\u001b[32m      7\u001b[39m \u001b[38;5;28;01mclass\u001b[39;00m\u001b[38;5;250m \u001b[39m\u001b[34;01mStack\u001b[39;00m(Generic[T]):\n\u001b[32m      8\u001b[39m     items : \u001b[38;5;28mlist\u001b[39m[T] = field(default_factory=\u001b[38;5;28mlist\u001b[39m)\n\u001b[32m----> \u001b[39m\u001b[32m9\u001b[39m     limit = \u001b[43mClassVar\u001b[49m\u001b[43m[\u001b[49m\u001b[38;5;28;43mint\u001b[39;49m\u001b[43m]\u001b[49m = \u001b[32m10\u001b[39m\n",
      "\u001b[31mTypeError\u001b[39m: '_SpecialForm' object does not support item assignment"
     ]
    }
   ],
   "source": [
    "from dataclasses import dataclass, field\n",
    "from typing import Generic,ClassVar, TypeVar\n",
    "\n",
    "T = TypeVar(\"T\")\n",
    "\n",
    "@dataclass\n",
    "class Stack(Generic[T]):\n",
    "    items : list[T] = field(default_factory=list)\n",
    "    limit = ClassVar[int] = 10\n",
    "\n",
    "    \n",
    "\n",
    "stack = Stack[int]()\n",
    "\n",
    "print(stack.limit)\n",
    "\n"
   ]
  },
  {
   "cell_type": "code",
   "execution_count": 5,
   "id": "f1cdfb59",
   "metadata": {},
   "outputs": [
    {
     "name": "stdout",
     "output_type": "stream",
     "text": [
      "generics\n",
      "After sleeping\n"
     ]
    }
   ],
   "source": [
    "import time\n",
    "print(\"generics\")\n",
    "time.sleep(5)\n",
    "print(\"After sleeping\")"
   ]
  },
  {
   "cell_type": "code",
   "execution_count": null,
   "id": "fb8dabc5",
   "metadata": {},
   "outputs": [
    {
     "name": "stdout",
     "output_type": "stream",
     "text": [
      "1\n",
      "2\n",
      "3\n",
      "4\n",
      "5\n"
     ]
    }
   ],
   "source": [
    "import time\n",
    "\n",
    "for i in range(1,6):\n",
    "    print(i)\n",
    "    time.sleep(1)\n"
   ]
  },
  {
   "cell_type": "code",
   "execution_count": 11,
   "id": "21e190fc",
   "metadata": {},
   "outputs": [
    {
     "name": "stdout",
     "output_type": "stream",
     "text": [
      "Defaulting to user installation because normal site-packages is not writeable\n",
      "Requirement already satisfied: pydantic in c:\\users\\mustafa tawab\\appdata\\roaming\\python\\python312\\site-packages (2.11.7)\n",
      "Requirement already satisfied: annotated-types>=0.6.0 in c:\\users\\mustafa tawab\\appdata\\roaming\\python\\python312\\site-packages (from pydantic) (0.7.0)\n",
      "Requirement already satisfied: pydantic-core==2.33.2 in c:\\users\\mustafa tawab\\appdata\\roaming\\python\\python312\\site-packages (from pydantic) (2.33.2)\n",
      "Requirement already satisfied: typing-extensions>=4.12.2 in c:\\users\\mustafa tawab\\appdata\\roaming\\python\\python312\\site-packages (from pydantic) (4.13.2)\n",
      "Requirement already satisfied: typing-inspection>=0.4.0 in c:\\users\\mustafa tawab\\appdata\\roaming\\python\\python312\\site-packages (from pydantic) (0.4.1)\n"
     ]
    }
   ],
   "source": [
    "!pip install pydantic"
   ]
  },
  {
   "cell_type": "code",
   "execution_count": 12,
   "id": "826523a9",
   "metadata": {},
   "outputs": [
    {
     "ename": "ModuleNotFoundError",
     "evalue": "No module named 'pydantic'",
     "output_type": "error",
     "traceback": [
      "\u001b[31m---------------------------------------------------------------------------\u001b[39m",
      "\u001b[31mModuleNotFoundError\u001b[39m                       Traceback (most recent call last)",
      "\u001b[36mCell\u001b[39m\u001b[36m \u001b[39m\u001b[32mIn[12]\u001b[39m\u001b[32m, line 3\u001b[39m\n\u001b[32m      1\u001b[39m \u001b[38;5;28;01mfrom\u001b[39;00m\u001b[38;5;250m \u001b[39m\u001b[34;01mtyping\u001b[39;00m\u001b[38;5;250m \u001b[39m\u001b[38;5;28;01mimport\u001b[39;00m TypeVar\n\u001b[32m      2\u001b[39m \u001b[38;5;28;01mfrom\u001b[39;00m\u001b[38;5;250m \u001b[39m\u001b[34;01mdataclasses\u001b[39;00m\u001b[38;5;250m \u001b[39m\u001b[38;5;28;01mimport\u001b[39;00m dataclass, field\n\u001b[32m----> \u001b[39m\u001b[32m3\u001b[39m \u001b[38;5;28;01mfrom\u001b[39;00m\u001b[38;5;250m \u001b[39m\u001b[34;01mpydantic\u001b[39;00m\u001b[38;5;250m \u001b[39m\u001b[38;5;28;01mimport\u001b[39;00m BaseModel\n\u001b[32m      5\u001b[39m T = TypeVar(\u001b[33m\"\u001b[39m\u001b[33mT\u001b[39m\u001b[33m\"\u001b[39m)\n\u001b[32m      7\u001b[39m \u001b[38;5;28;01mclass\u001b[39;00m\u001b[38;5;250m \u001b[39m\u001b[34;01mmytest\u001b[39;00m(BaseModel):\n",
      "\u001b[31mModuleNotFoundError\u001b[39m: No module named 'pydantic'"
     ]
    }
   ],
   "source": [
    "from typing import TypeVar\n",
    "from dataclasses import dataclass, field\n",
    "from pydantic import BaseModel\n",
    "\n",
    "T = TypeVar(\"T\")\n",
    "\n",
    "class mytest(BaseModel):\n",
    "    id: int\n",
    "    idsub: int\n",
    "    abc: int\n",
    "\n",
    "\n",
    "@dataclass\n",
    "class MyTest[T]():\n",
    "    mydata: T\n",
    "\n",
    "\n",
    "output = MyTest[mytest](id=120, idsub=12, abc=13)\n",
    "\n",
    "print(output)"
   ]
  },
  {
   "cell_type": "code",
   "execution_count": null,
   "id": "96ea3a47",
   "metadata": {},
   "outputs": [],
   "source": []
  }
 ],
 "metadata": {
  "kernelspec": {
   "display_name": "Python 3",
   "language": "python",
   "name": "python3"
  },
  "language_info": {
   "codemirror_mode": {
    "name": "ipython",
    "version": 3
   },
   "file_extension": ".py",
   "mimetype": "text/x-python",
   "name": "python",
   "nbconvert_exporter": "python",
   "pygments_lexer": "ipython3",
   "version": "3.13.3"
  }
 },
 "nbformat": 4,
 "nbformat_minor": 5
}
