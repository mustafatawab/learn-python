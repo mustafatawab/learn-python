{
 "cells": [
  {
   "cell_type": "code",
   "execution_count": 1,
   "id": "062cf927",
   "metadata": {},
   "outputs": [
    {
     "name": "stdout",
     "output_type": "stream",
     "text": [
      "Something is happening before the function is called.\n",
      "Hello!\n",
      "Something is happening after the function is called.\n"
     ]
    }
   ],
   "source": [
    "def my_decorator(func):\n",
    "    def wrapper():\n",
    "        print(\"Something is happening before the function is called.\")\n",
    "        func()\n",
    "        print(\"Something is happening after the function is called.\")\n",
    "    return wrapper\n",
    "\n",
    "@my_decorator\n",
    "def say_hello():\n",
    "    print(\"Hello!\")\n",
    "\n",
    "say_hello()"
   ]
  },
  {
   "cell_type": "code",
   "execution_count": 3,
   "id": "ae659df0",
   "metadata": {},
   "outputs": [
    {
     "name": "stdout",
     "output_type": "stream",
     "text": [
      "THis is working\n"
     ]
    }
   ],
   "source": [
    "def wrapper(function):\n",
    "    def MyFunction():\n",
    "        function()\n",
    "    return MyFunction\n",
    "\n",
    "\n",
    "@wrapper\n",
    "def callingFunction():\n",
    "    print(\"THis is working\")\n",
    "\n",
    "\n",
    "callingFunction()"
   ]
  },
  {
   "cell_type": "code",
   "execution_count": null,
   "id": "93ac9a3e",
   "metadata": {},
   "outputs": [
    {
     "name": "stdout",
     "output_type": "stream",
     "text": [
      "Hi My function decorator is working\n",
      "Hi My function decorator is working\n"
     ]
    }
   ],
   "source": [
    "def decoratorFunction(func):\n",
    "    func()\n",
    "    return func\n",
    "\n",
    "\n",
    "@decoratorFunction\n",
    "def myfunction():\n",
    "    print(\"Hi My function decorator is working\")\n",
    "\n",
    "\n",
    "myfunction()"
   ]
  },
  {
   "cell_type": "code",
   "execution_count": 3,
   "id": "56eb5859",
   "metadata": {},
   "outputs": [
    {
     "name": "stdout",
     "output_type": "stream",
     "text": [
      "Hello\n",
      "1757088670.4367821\n",
      "1757088670.437078\n"
     ]
    }
   ],
   "source": [
    "import time\n",
    "\n",
    "def func():\n",
    "    a = time.time()\n",
    "    print(\"Hello\")\n",
    "    b = time.time()\n",
    "    print(a)\n",
    "    print(b)\n",
    "\n",
    "func()"
   ]
  },
  {
   "cell_type": "code",
   "execution_count": null,
   "id": "28a3acf5",
   "metadata": {},
   "outputs": [],
   "source": []
  }
 ],
 "metadata": {
  "kernelspec": {
   "display_name": "Python 3",
   "language": "python",
   "name": "python3"
  },
  "language_info": {
   "codemirror_mode": {
    "name": "ipython",
    "version": 3
   },
   "file_extension": ".py",
   "mimetype": "text/x-python",
   "name": "python",
   "nbconvert_exporter": "python",
   "pygments_lexer": "ipython3",
   "version": "3.13.5"
  }
 },
 "nbformat": 4,
 "nbformat_minor": 5
}
