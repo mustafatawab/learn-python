{
 "cells": [
  {
   "cell_type": "code",
   "execution_count": 18,
   "id": "756fffb1",
   "metadata": {},
   "outputs": [
    {
     "name": "stdout",
     "output_type": "stream",
     "text": [
      "name = John Doe\n",
      "position = Software Engineer\n",
      "department = Development\n",
      "-----------------------\n",
      "name = John Doe\n",
      "position = Software Engineer\n",
      "department = Development\n",
      "age is  30\n",
      "age is  20\n",
      "age is  30\n"
     ]
    }
   ],
   "source": [
    "name : str = \"Muhammad Nasir\"\n",
    "age : int = 30\n",
    "\n",
    "\n",
    "names: list[str | int | float | bool ] = [\"Alice\", \"Bob\", \"Charlie\", 12 , 234 , 45.67, True, False]\n",
    "\n",
    "# for name in names:\n",
    "#     if type(name) is str:\n",
    "#         print(name)\n",
    "\n",
    "\n",
    "employe: dict[str, str] = {\n",
    "    \"name\": \"John Doe\",\n",
    "    \"position\": \"Software Engineer\",\n",
    "    \"department\": \"Development\"\n",
    "}\n",
    "\n",
    "# for item in employe:\n",
    "#     print(f\"{item} = {employe[item]}\")\n",
    "\n",
    "for key, value in employe.items():\n",
    "    print(f\"{key} = {value}\")\n",
    "\n",
    "print(\"-----------------------\")\n",
    "\n",
    "for item in employe.items():\n",
    "    key , value = item\n",
    "    print(f\"{key} = {value}\")\n",
    "\n",
    "\n",
    "while age < 40:\n",
    "    print(\"age is \", age) \n",
    "    age = int(input(\"Enter new age: \"))\n",
    "\n",
    "# print(employe.items())"
   ]
  },
  {
   "cell_type": "code",
   "execution_count": 28,
   "id": "791d5038",
   "metadata": {},
   "outputs": [
    {
     "name": "stdout",
     "output_type": "stream",
     "text": [
      "Alice\n",
      "not valid\n",
      "not valid\n",
      "Engineer\n",
      "not valid\n",
      "not valid\n",
      "not valid\n"
     ]
    }
   ],
   "source": [
    "mytuple: tuple[str, int, float, ...] = (\"Alice\", 30, 45.67 , \"Engineer\" , 100 , 200 , 300)\n",
    "\n",
    "for item in mytuple:\n",
    "    \n",
    "    data = item if type(item) is str else \"not valid\"\n",
    "    print(data)"
   ]
  },
  {
   "cell_type": "code",
   "execution_count": 27,
   "id": "62090900",
   "metadata": {},
   "outputs": [
    {
     "name": "stdout",
     "output_type": "stream",
     "text": [
      "x is not ha\n"
     ]
    }
   ],
   "source": [
    "x : str = \"hi\"\n",
    "if x != \"ha\":\n",
    "    print(\"x is not ha\")"
   ]
  },
  {
   "cell_type": "code",
   "execution_count": 1,
   "id": "3e517039",
   "metadata": {},
   "outputs": [
    {
     "data": {
      "text/plain": [
       "2072086446720"
      ]
     },
     "execution_count": 1,
     "metadata": {},
     "output_type": "execute_result"
    }
   ],
   "source": [
    "names: list[str] = [\"mustafa\" , 'tawab']\n",
    "id(names)"
   ]
  },
  {
   "cell_type": "code",
   "execution_count": 2,
   "id": "93184365",
   "metadata": {},
   "outputs": [],
   "source": [
    "names[0] = \"Saad\""
   ]
  },
  {
   "cell_type": "code",
   "execution_count": 3,
   "id": "73ca70f8",
   "metadata": {},
   "outputs": [
    {
     "data": {
      "text/plain": [
       "['Saad', 'tawab']"
      ]
     },
     "execution_count": 3,
     "metadata": {},
     "output_type": "execute_result"
    }
   ],
   "source": [
    "names"
   ]
  },
  {
   "cell_type": "code",
   "execution_count": 4,
   "id": "0454702a",
   "metadata": {},
   "outputs": [
    {
     "data": {
      "text/plain": [
       "2072086446720"
      ]
     },
     "execution_count": 4,
     "metadata": {},
     "output_type": "execute_result"
    }
   ],
   "source": [
    "id(names)"
   ]
  },
  {
   "cell_type": "code",
   "execution_count": 7,
   "id": "9a5baa4e",
   "metadata": {},
   "outputs": [
    {
     "name": "stdout",
     "output_type": "stream",
     "text": [
      "False\n",
      "mustafa\n"
     ]
    }
   ],
   "source": [
    "context: dict = {\n",
    "    \"is_admin\" : False,\n",
    "    \"user\" : \"mustafa\"\n",
    "}\n",
    "\n",
    "print(context.get(\"is_admin\"))\n",
    "print(context.get(\"user\"))"
   ]
  },
  {
   "cell_type": "code",
   "execution_count": null,
   "id": "ed36b5f6",
   "metadata": {},
   "outputs": [],
   "source": []
  }
 ],
 "metadata": {
  "kernelspec": {
   "display_name": "Python 3",
   "language": "python",
   "name": "python3"
  },
  "language_info": {
   "codemirror_mode": {
    "name": "ipython",
    "version": 3
   },
   "file_extension": ".py",
   "mimetype": "text/x-python",
   "name": "python",
   "nbconvert_exporter": "python",
   "pygments_lexer": "ipython3",
   "version": "3.13.5"
  }
 },
 "nbformat": 4,
 "nbformat_minor": 5
}
