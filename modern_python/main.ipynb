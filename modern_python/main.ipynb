{
 "cells": [
  {
   "cell_type": "code",
   "execution_count": 2,
   "id": "db55f149",
   "metadata": {},
   "outputs": [
    {
     "data": {
      "text/plain": [
       "'Hello WOrld !!!'"
      ]
     },
     "execution_count": 2,
     "metadata": {},
     "output_type": "execute_result"
    }
   ],
   "source": [
    "\"Hello WOrld !!!\""
   ]
  },
  {
   "cell_type": "code",
   "execution_count": 5,
   "id": "10cc5627",
   "metadata": {},
   "outputs": [
    {
     "data": {
      "text/plain": [
       "90"
      ]
     },
     "execution_count": 5,
     "metadata": {},
     "output_type": "execute_result"
    }
   ],
   "source": [
    "a : int = 90\n",
    "name : str = \"ABC\"\n",
    "a"
   ]
  },
  {
   "cell_type": "code",
   "execution_count": null,
   "id": "1daf9125",
   "metadata": {},
   "outputs": [
    {
     "name": "stdout",
     "output_type": "stream",
     "text": [
      "<class 'list'>\n",
      "[None, 12]\n"
     ]
    }
   ],
   "source": [
    "something : str | None | int | bool | list[str | None] = 12.3\n",
    "# something = [None , 12]\n",
    "print(type(something))\n",
    "print(something)\n"
   ]
  },
  {
   "cell_type": "code",
   "execution_count": 10,
   "id": "2f5ccaac",
   "metadata": {},
   "outputs": [
    {
     "name": "stdout",
     "output_type": "stream",
     "text": [
      "Student A whos Roll Number is A012 got 1200 marks\n",
      "Student B whos Roll Number is B013 got 1300 marks\n"
     ]
    }
   ],
   "source": [
    "students : list[tuple[str , str , int]] = [(\"A\" , \"A012\" , 1200) , (\"B\" , \"B013\" , 1300)]\n",
    "for std in students:\n",
    "    name , rollnumber , marks = std\n",
    "    print(f\"Student {name} whos Roll Number is {rollnumber} got {marks} marks\")"
   ]
  },
  {
   "cell_type": "code",
   "execution_count": 8,
   "id": "71bf8bf1",
   "metadata": {},
   "outputs": [
    {
     "data": {
      "text/plain": [
       "[1, 2]"
      ]
     },
     "execution_count": 8,
     "metadata": {},
     "output_type": "execute_result"
    }
   ],
   "source": [
    "a : list[int] = [1 , 2]\n",
    "a"
   ]
  },
  {
   "cell_type": "code",
   "execution_count": 12,
   "id": "5f3a29f9",
   "metadata": {},
   "outputs": [],
   "source": [
    "mytuple : tuple[str] = (\"Hello\")\n"
   ]
  },
  {
   "cell_type": "code",
   "execution_count": 17,
   "id": "a696a8b1",
   "metadata": {},
   "outputs": [
    {
     "name": "stdout",
     "output_type": "stream",
     "text": [
      "True 1\n",
      "True 2\n"
     ]
    }
   ],
   "source": [
    "if True:\n",
    "    print(\"True 1\")\n",
    "if True:\n",
    "    print(\"True 2\")\n"
   ]
  },
  {
   "cell_type": "code",
   "execution_count": null,
   "id": "629b46cf",
   "metadata": {},
   "outputs": [],
   "source": []
  }
 ],
 "metadata": {
  "kernelspec": {
   "display_name": "Python 3",
   "language": "python",
   "name": "python3"
  },
  "language_info": {
   "codemirror_mode": {
    "name": "ipython",
    "version": 3
   },
   "file_extension": ".py",
   "mimetype": "text/x-python",
   "name": "python",
   "nbconvert_exporter": "python",
   "pygments_lexer": "ipython3",
   "version": "3.13.3"
  }
 },
 "nbformat": 4,
 "nbformat_minor": 5
}
