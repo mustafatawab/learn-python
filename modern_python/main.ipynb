{
 "cells": [
  {
   "cell_type": "code",
   "execution_count": 1,
   "id": "db55f149",
   "metadata": {},
   "outputs": [
    {
     "data": {
      "text/plain": [
       "'Hello WOrld !!!'"
      ]
     },
     "execution_count": 1,
     "metadata": {},
     "output_type": "execute_result"
    }
   ],
   "source": [
    "\"Hello WOrld !!!\""
   ]
  },
  {
   "cell_type": "code",
   "execution_count": 2,
   "id": "10cc5627",
   "metadata": {},
   "outputs": [
    {
     "data": {
      "text/plain": [
       "90"
      ]
     },
     "execution_count": 2,
     "metadata": {},
     "output_type": "execute_result"
    }
   ],
   "source": [
    "a : int = 90\n",
    "name : str = \"ABC\"\n",
    "a"
   ]
  },
  {
   "cell_type": "code",
   "execution_count": 3,
   "id": "1daf9125",
   "metadata": {},
   "outputs": [
    {
     "name": "stdout",
     "output_type": "stream",
     "text": [
      "<class 'float'>\n",
      "12.3\n"
     ]
    }
   ],
   "source": [
    "something : str | None | int | bool | list[str | None] = 12.3\n",
    "# something = [None , 12]\n",
    "print(type(something))\n",
    "print(something)\n"
   ]
  },
  {
   "cell_type": "code",
   "execution_count": 4,
   "id": "2f5ccaac",
   "metadata": {},
   "outputs": [
    {
     "name": "stdout",
     "output_type": "stream",
     "text": [
      "Student A whos Roll Number is A012 got 1200 marks\n",
      "Student B whos Roll Number is B013 got 1300 marks\n"
     ]
    }
   ],
   "source": [
    "students : list[tuple[str , str , int]] = [(\"A\" , \"A012\" , 1200) , (\"B\" , \"B013\" , 1300)]\n",
    "for std in students:\n",
    "    name , rollnumber , marks = std\n",
    "    print(f\"Student {name} whos Roll Number is {rollnumber} got {marks} marks\")"
   ]
  },
  {
   "cell_type": "code",
   "execution_count": 5,
   "id": "71bf8bf1",
   "metadata": {},
   "outputs": [
    {
     "data": {
      "text/plain": [
       "[1, 2]"
      ]
     },
     "execution_count": 5,
     "metadata": {},
     "output_type": "execute_result"
    }
   ],
   "source": [
    "a : list[int] = [1 , 2]\n",
    "a"
   ]
  },
  {
   "cell_type": "code",
   "execution_count": 6,
   "id": "5f3a29f9",
   "metadata": {},
   "outputs": [],
   "source": [
    "mytuple : tuple[str] = (\"Hello\")\n"
   ]
  },
  {
   "cell_type": "code",
   "execution_count": 7,
   "id": "a696a8b1",
   "metadata": {},
   "outputs": [
    {
     "name": "stdout",
     "output_type": "stream",
     "text": [
      "True 1\n",
      "True 2\n"
     ]
    }
   ],
   "source": [
    "if True:\n",
    "    print(\"True 1\")\n",
    "if True:\n",
    "    print(\"True 2\")\n"
   ]
  },
  {
   "cell_type": "code",
   "execution_count": 10,
   "id": "629b46cf",
   "metadata": {},
   "outputs": [
    {
     "name": "stdout",
     "output_type": "stream",
     "text": [
      "Before return\n",
      "after return \n"
     ]
    }
   ],
   "source": [
    "def myfunc():\n",
    "    print(\"Before return\")\n",
    "    return # last part\n",
    "    print(\"after return \")\n",
    "\n",
    "myfunc()"
   ]
  },
  {
   "cell_type": "code",
   "execution_count": null,
   "id": "efd2cdf3",
   "metadata": {},
   "outputs": [
    {
     "name": "stdout",
     "output_type": "stream",
     "text": [
      "Hello\n"
     ]
    }
   ],
   "source": [
    "def main():\n",
    "    return \"Hello\"\n",
    "\n",
    "a = main()\n",
    "print(a)"
   ]
  },
  {
   "cell_type": "code",
   "execution_count": null,
   "id": "c7ddc6a2",
   "metadata": {},
   "outputs": [
    {
     "name": "stdout",
     "output_type": "stream",
     "text": [
      " The value of a is 5 and the value of b is 8 and addition of these is 13 \n"
     ]
    },
    {
     "data": {
      "text/plain": [
       "13"
      ]
     },
     "execution_count": 18,
     "metadata": {},
     "output_type": "execute_result"
    }
   ],
   "source": [
    "def main(a : int , b : int) -> int:\n",
    "    print(f\"\"\" The value of a is {a} and the value of b is {b} and addition of these is {a+b} \"\"\")\n",
    "    return a+b\n",
    "\n",
    "add = main(5,8)\n",
    "add"
   ]
  },
  {
   "cell_type": "code",
   "execution_count": 22,
   "id": "bfbed617",
   "metadata": {},
   "outputs": [
    {
     "name": "stdout",
     "output_type": "stream",
     "text": [
      "A\n",
      "B\n",
      "C\n"
     ]
    }
   ],
   "source": [
    "def MyList(a : list[str | int]) -> list[str | int]:\n",
    "    return a\n",
    "\n",
    "x : list[str] = [\"A\" , \"B\" , \"C\"]\n",
    "mylist = MyList(x)\n",
    "for item in mylist:\n",
    "    print(item)\n"
   ]
  },
  {
   "cell_type": "code",
   "execution_count": null,
   "id": "c8120e1a",
   "metadata": {},
   "outputs": [],
   "source": []
  }
 ],
 "metadata": {
  "kernelspec": {
   "display_name": "Python 3",
   "language": "python",
   "name": "python3"
  },
  "language_info": {
   "codemirror_mode": {
    "name": "ipython",
    "version": 3
   },
   "file_extension": ".py",
   "mimetype": "text/x-python",
   "name": "python",
   "nbconvert_exporter": "python",
   "pygments_lexer": "ipython3",
   "version": "3.13.3"
  }
 },
 "nbformat": 4,
 "nbformat_minor": 5
}
