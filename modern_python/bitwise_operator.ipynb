{
 "cells": [
  {
   "cell_type": "markdown",
   "id": "bbc613a3",
   "metadata": {},
   "source": [
    "<table>\n",
    "        <thead>\n",
    "        <tr>\n",
    "        <th style='background: black; color:white;'>\n",
    "            MSB\n",
    "        </th>\n",
    "        <th colspan=7 style=\"text-align:center; color:red; border-color: red; background: yellow;\">\n",
    "        Binar Digit\n",
    "        </th>\n",
    "         <th style='background: black; color:white;'>\n",
    "            LSB\n",
    "        </th>\n",
    "        <tr>\n",
    "        </thead>\n",
    "        <tbody>\n",
    "            <tr>\n",
    "                <td> 2<sup>8</sup></td>\n",
    "                <td> 2<sup>7</sup></td>\n",
    "                <td> 2<sup>6</sup></td>\n",
    "                <td> 2<sup>5</sup></td>\n",
    "                <td> 2<sup>4</sup></td>\n",
    "                <td> 2<sup>3</sup></td>\n",
    "                <td> 2<sup>2</sup></td>\n",
    "                <td> 2<sup>1</sup></td>\n",
    "                <td> 2<sup>0</sup></td>\n",
    "            </tr>\n",
    "             <tr>\n",
    "                <td> 256 </td>\n",
    "                <td> 128</td>\n",
    "                <td> 64</td>\n",
    "                <td> 32</td>\n",
    "                <td> 16</td>\n",
    "                <td> 8</td>\n",
    "                <td> 4</td>\n",
    "                <td> 2</td>\n",
    "                <td> 1</td>\n",
    "            </tr>\n",
    "        </tbody>\n",
    "</table>"
   ]
  },
  {
   "cell_type": "markdown",
   "id": "0312f7ad",
   "metadata": {},
   "source": [
    "## Bitwise Operator\n",
    "\n",
    "* &  AND\n",
    "    * Convert the number to the binary and then perform && operation\n",
    "* |  OR\n",
    "* ^  XOR\n",
    "* ~ NOT   "
   ]
  },
  {
   "cell_type": "code",
   "execution_count": 1,
   "id": "9718da3c",
   "metadata": {},
   "outputs": [
    {
     "name": "stdout",
     "output_type": "stream",
     "text": [
      "Bitwise Operator\n"
     ]
    }
   ],
   "source": [
    "print(\"Bitwise Operator\")"
   ]
  },
  {
   "cell_type": "code",
   "execution_count": 2,
   "id": "05ff4927",
   "metadata": {},
   "outputs": [
    {
     "name": "stdout",
     "output_type": "stream",
     "text": [
      "8\n"
     ]
    }
   ],
   "source": [
    "print(9 & 8)"
   ]
  },
  {
   "cell_type": "code",
   "execution_count": 3,
   "id": "b14a5331",
   "metadata": {},
   "outputs": [
    {
     "name": "stdout",
     "output_type": "stream",
     "text": [
      "1\n"
     ]
    }
   ],
   "source": [
    "print(1 & 1)"
   ]
  },
  {
   "cell_type": "code",
   "execution_count": 4,
   "id": "80a98ee5",
   "metadata": {},
   "outputs": [
    {
     "name": "stdout",
     "output_type": "stream",
     "text": [
      "0\n"
     ]
    }
   ],
   "source": [
    "print(1 & 2)"
   ]
  },
  {
   "cell_type": "code",
   "execution_count": 5,
   "id": "a8c1c5b1",
   "metadata": {},
   "outputs": [
    {
     "name": "stdout",
     "output_type": "stream",
     "text": [
      "-4\n"
     ]
    }
   ],
   "source": [
    "print(~3)"
   ]
  },
  {
   "cell_type": "code",
   "execution_count": null,
   "id": "9c93a969",
   "metadata": {},
   "outputs": [
    {
     "name": "stdout",
     "output_type": "stream",
     "text": [
      "1 -4\n"
     ]
    }
   ],
   "source": [
    "print( ~3)"
   ]
  },
  {
   "cell_type": "code",
   "execution_count": 9,
   "id": "75cb6655",
   "metadata": {},
   "outputs": [
    {
     "name": "stdout",
     "output_type": "stream",
     "text": [
      "6\n"
     ]
    }
   ],
   "source": [
    "print(3 << 1)"
   ]
  },
  {
   "cell_type": "code",
   "execution_count": 10,
   "id": "5ade413e",
   "metadata": {},
   "outputs": [
    {
     "name": "stdout",
     "output_type": "stream",
     "text": [
      "12\n"
     ]
    }
   ],
   "source": [
    "print(3 << 2)"
   ]
  },
  {
   "cell_type": "code",
   "execution_count": 11,
   "id": "837763bf",
   "metadata": {},
   "outputs": [
    {
     "name": "stdout",
     "output_type": "stream",
     "text": [
      "40960\n"
     ]
    }
   ],
   "source": [
    "print(10 << 12)"
   ]
  },
  {
   "cell_type": "code",
   "execution_count": 12,
   "id": "f0cd6afa",
   "metadata": {},
   "outputs": [
    {
     "name": "stdout",
     "output_type": "stream",
     "text": [
      "1\n"
     ]
    }
   ],
   "source": [
    "print(3 >> 1)"
   ]
  },
  {
   "cell_type": "code",
   "execution_count": 13,
   "id": "4ba46640",
   "metadata": {},
   "outputs": [
    {
     "name": "stdout",
     "output_type": "stream",
     "text": [
      "90\n"
     ]
    }
   ],
   "source": [
    "print(x:=90)"
   ]
  },
  {
   "cell_type": "code",
   "execution_count": 16,
   "id": "322212e3",
   "metadata": {},
   "outputs": [
    {
     "name": "stdout",
     "output_type": "stream",
     "text": [
      "1\n"
     ]
    }
   ],
   "source": [
    "print(x:=1)"
   ]
  },
  {
   "cell_type": "code",
   "execution_count": 17,
   "id": "40413fc1",
   "metadata": {},
   "outputs": [
    {
     "data": {
      "text/plain": [
       "11"
      ]
     },
     "execution_count": 17,
     "metadata": {},
     "output_type": "execute_result"
    }
   ],
   "source": [
    "9 | 10"
   ]
  },
  {
   "cell_type": "code",
   "execution_count": 20,
   "id": "298cfeb6",
   "metadata": {},
   "outputs": [
    {
     "data": {
      "text/plain": [
       "['capitalize',\n",
       " 'casefold',\n",
       " 'center',\n",
       " 'count',\n",
       " 'encode',\n",
       " 'endswith',\n",
       " 'expandtabs',\n",
       " 'find',\n",
       " 'format',\n",
       " 'format_map',\n",
       " 'index',\n",
       " 'isalnum',\n",
       " 'isalpha',\n",
       " 'isascii',\n",
       " 'isdecimal',\n",
       " 'isdigit',\n",
       " 'isidentifier',\n",
       " 'islower',\n",
       " 'isnumeric',\n",
       " 'isprintable',\n",
       " 'isspace',\n",
       " 'istitle',\n",
       " 'isupper',\n",
       " 'join',\n",
       " 'ljust',\n",
       " 'lower',\n",
       " 'lstrip',\n",
       " 'maketrans',\n",
       " 'partition',\n",
       " 'removeprefix',\n",
       " 'removesuffix',\n",
       " 'replace',\n",
       " 'rfind',\n",
       " 'rindex',\n",
       " 'rjust',\n",
       " 'rpartition',\n",
       " 'rsplit',\n",
       " 'rstrip',\n",
       " 'split',\n",
       " 'splitlines',\n",
       " 'startswith',\n",
       " 'strip',\n",
       " 'swapcase',\n",
       " 'title',\n",
       " 'translate',\n",
       " 'upper',\n",
       " 'zfill']"
      ]
     },
     "execution_count": 20,
     "metadata": {},
     "output_type": "execute_result"
    }
   ],
   "source": [
    "[i for i in dir(str) if \"__\" not in i]"
   ]
  },
  {
   "cell_type": "code",
   "execution_count": null,
   "id": "2b9e311b",
   "metadata": {},
   "outputs": [],
   "source": []
  }
 ],
 "metadata": {
  "kernelspec": {
   "display_name": "Python 3",
   "language": "python",
   "name": "python3"
  },
  "language_info": {
   "codemirror_mode": {
    "name": "ipython",
    "version": 3
   },
   "file_extension": ".py",
   "mimetype": "text/x-python",
   "name": "python",
   "nbconvert_exporter": "python",
   "pygments_lexer": "ipython3",
   "version": "3.13.5"
  }
 },
 "nbformat": 4,
 "nbformat_minor": 5
}
