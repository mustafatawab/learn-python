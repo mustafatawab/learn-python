{
 "cells": [
  {
   "cell_type": "code",
   "execution_count": 2,
   "id": "c7ca9292",
   "metadata": {},
   "outputs": [
    {
     "name": "stdout",
     "output_type": "stream",
     "text": [
      "Before sleep\n",
      "After sleep\n",
      "Before sleep\n",
      "After sleep\n",
      "Before sleep\n",
      "After sleep\n",
      "Before sleep\n",
      "After sleep\n"
     ]
    }
   ],
   "source": [
    "import asyncio\n",
    "\n",
    "async def function1():\n",
    "    print(\"Before sleep\")\n",
    "    await asyncio.sleep(4)\n",
    "    print(\"After sleep\")\n",
    "\n",
    "\n",
    "async def main():\n",
    "    await function1()\n",
    "    await function1()\n",
    "    await function1()\n",
    "    await function1()\n",
    "    \n",
    "\n",
    "await main()\n",
    "# asyncio.run(main())"
   ]
  },
  {
   "cell_type": "code",
   "execution_count": null,
   "id": "0bc72661",
   "metadata": {},
   "outputs": [],
   "source": []
  }
 ],
 "metadata": {
  "kernelspec": {
   "display_name": "Python 3",
   "language": "python",
   "name": "python3"
  },
  "language_info": {
   "codemirror_mode": {
    "name": "ipython",
    "version": 3
   },
   "file_extension": ".py",
   "mimetype": "text/x-python",
   "name": "python",
   "nbconvert_exporter": "python",
   "pygments_lexer": "ipython3",
   "version": "3.13.5"
  }
 },
 "nbformat": 4,
 "nbformat_minor": 5
}
