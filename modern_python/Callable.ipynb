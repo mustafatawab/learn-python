{
 "cells": [
  {
   "cell_type": "code",
   "execution_count": 1,
   "id": "e17b3eda",
   "metadata": {},
   "outputs": [
    {
     "name": "stdout",
     "output_type": "stream",
     "text": [
      "7\n"
     ]
    }
   ],
   "source": [
    "from typing import Callable\n",
    "\n",
    "def apply_operation(x : int , y : int , ops : Callable[[int, int] , int]) -> Callable[[int , int] , int]:\n",
    "    return ops(x , y)\n",
    "\n",
    "\n",
    "def add(x : int , y : int) -> int:\n",
    "    return (x + y)\n",
    "\n",
    "\n",
    "print(apply_operation(2 , 5 , add))\n",
    "\n"
   ]
  },
  {
   "cell_type": "code",
   "execution_count": 2,
   "id": "258c5a2d",
   "metadata": {},
   "outputs": [
    {
     "name": "stdout",
     "output_type": "stream",
     "text": [
      "Greetings Mustafa\n"
     ]
    }
   ],
   "source": [
    "\n",
    "\n",
    "class Greeter:\n",
    "    def __call__(self, name):\n",
    "        print(f\"Greetings {name}\")\n",
    "\n",
    "\n",
    "greet = Greeter()\n",
    "greet(\"Mustafa\")"
   ]
  },
  {
   "cell_type": "code",
   "execution_count": null,
   "id": "4c8f89be",
   "metadata": {},
   "outputs": [],
   "source": [
    "#dunder | Magic function\n",
    "# __call__\n",
    "\n",
    "# By Default all methods are callable. There is a function  __call__ in every method"
   ]
  },
  {
   "cell_type": "code",
   "execution_count": null,
   "id": "91a628c0",
   "metadata": {},
   "outputs": [],
   "source": []
  },
  {
   "cell_type": "code",
   "execution_count": null,
   "id": "878075df",
   "metadata": {},
   "outputs": [],
   "source": []
  }
 ],
 "metadata": {
  "kernelspec": {
   "display_name": "Python 3",
   "language": "python",
   "name": "python3"
  },
  "language_info": {
   "codemirror_mode": {
    "name": "ipython",
    "version": 3
   },
   "file_extension": ".py",
   "mimetype": "text/x-python",
   "name": "python",
   "nbconvert_exporter": "python",
   "pygments_lexer": "ipython3",
   "version": "3.13.3"
  }
 },
 "nbformat": 4,
 "nbformat_minor": 5
}
