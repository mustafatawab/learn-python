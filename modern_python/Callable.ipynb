{
 "cells": [
  {
   "cell_type": "code",
   "execution_count": null,
   "id": "e17b3eda",
   "metadata": {},
   "outputs": [
    {
     "name": "stdout",
     "output_type": "stream",
     "text": [
      "7\n"
     ]
    }
   ],
   "source": [
    "from typing import Callable\n",
    "\n",
    "def apply_operation(x: int , y: int , ops : Callable[[int, int] , int]) -> Callable[[int , int] , int]:\n",
    "    return ops(x , y)\n",
    "\n",
    "\n",
    "def add(x: int , y: int) -> int:\n",
    "    return (x + y)\n",
    "\n",
    "\n",
    "print(apply_operation(2 , 5 , add))\n",
    "\n"
   ]
  },
  {
   "cell_type": "code",
   "execution_count": 2,
   "id": "258c5a2d",
   "metadata": {},
   "outputs": [
    {
     "name": "stdout",
     "output_type": "stream",
     "text": [
      "Greetings Mustafa\n"
     ]
    }
   ],
   "source": [
    "\n",
    "\n",
    "class Greeter:\n",
    "    def __call__(self, name):\n",
    "        print(f\"Greetings {name}\")\n",
    "\n",
    "\n",
    "greet = Greeter()\n",
    "greet(\"Mustafa\")"
   ]
  },
  {
   "cell_type": "code",
   "execution_count": 3,
   "id": "4c8f89be",
   "metadata": {},
   "outputs": [],
   "source": [
    "#dunder | Magic function\n",
    "# __call__\n",
    "\n",
    "# By Default all methods are callable. There is a function  __call__ in every method"
   ]
  },
  {
   "cell_type": "code",
   "execution_count": 6,
   "id": "91a628c0",
   "metadata": {},
   "outputs": [
    {
     "name": "stdout",
     "output_type": "stream",
     "text": [
      "22\n"
     ]
    }
   ],
   "source": [
    "from dataclasses import dataclass\n",
    "from typing import Callable\n",
    "\n",
    "@dataclass\n",
    "class Calculator:\n",
    "    operation: Callable[[int , int] , str]\n",
    "\n",
    "    def calculate(self , a : int , b : int) -> str:\n",
    "        return self.operation(a , b)\n",
    "    \n",
    "\n",
    "\n",
    "def add_stringify(x : int , y : int) -> str:\n",
    "    return str(x + y)\n",
    "\n",
    "\n",
    "cal = Calculator(operation=add_stringify)\n",
    "print(cal.calculate(12,10))"
   ]
  },
  {
   "cell_type": "code",
   "execution_count": 8,
   "id": "878075df",
   "metadata": {},
   "outputs": [
    {
     "name": "stdout",
     "output_type": "stream",
     "text": [
      "4\n"
     ]
    }
   ],
   "source": [
    "\n",
    "@dataclass\n",
    "class Calculator:\n",
    "    operation: Callable[[int , int] , str]\n",
    "\n",
    "    def __call__(self, a : int , b : int):\n",
    "        return self.operation(a , b)\n",
    "    \n",
    "\n",
    "\n",
    "def add_stringify(x : int , y : int) -> str:\n",
    "    return str(x + y)\n",
    "\n",
    "cal = Calculator(operation=add_stringify)\n",
    "print(cal(2 ,2))"
   ]
  },
  {
   "cell_type": "code",
   "execution_count": null,
   "id": "e4d64759",
   "metadata": {},
   "outputs": [],
   "source": []
  }
 ],
 "metadata": {
  "kernelspec": {
   "display_name": "Python 3",
   "language": "python",
   "name": "python3"
  },
  "language_info": {
   "codemirror_mode": {
    "name": "ipython",
    "version": 3
   },
   "file_extension": ".py",
   "mimetype": "text/x-python",
   "name": "python",
   "nbconvert_exporter": "python",
   "pygments_lexer": "ipython3",
   "version": "3.13.3"
  }
 },
 "nbformat": 4,
 "nbformat_minor": 5
}
