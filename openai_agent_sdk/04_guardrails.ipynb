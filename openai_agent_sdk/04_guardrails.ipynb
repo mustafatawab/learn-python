{
  "nbformat": 4,
  "nbformat_minor": 0,
  "metadata": {
    "colab": {
      "provenance": []
    },
    "kernelspec": {
      "name": "python3",
      "display_name": "Python 3"
    },
    "language_info": {
      "name": "python"
    }
  },
  "cells": [
    {
      "cell_type": "markdown",
      "source": [
        "#Input Guardrails\n"
      ],
      "metadata": {
        "id": "fOqf9qT2q6yc"
      }
    },
    {
      "cell_type": "code",
      "execution_count": 1,
      "metadata": {
        "colab": {
          "base_uri": "https://localhost:8080/"
        },
        "id": "a8RLcMsRfJNn",
        "outputId": "264914c2-e948-441a-af95-e9f4345ac7f0"
      },
      "outputs": [
        {
          "output_type": "stream",
          "name": "stdout",
          "text": [
            "\u001b[?25l   \u001b[90m━━━━━━━━━━━━━━━━━━━━━━━━━━━━━━━━━━━━━━━━\u001b[0m \u001b[32m0.0/126.7 kB\u001b[0m \u001b[31m?\u001b[0m eta \u001b[36m-:--:--\u001b[0m\r\u001b[2K   \u001b[90m━━━━━━━━━━━━━━━━━━━━━━━━━━━━━━━━━━━━━━━━\u001b[0m \u001b[32m126.7/126.7 kB\u001b[0m \u001b[31m5.6 MB/s\u001b[0m eta \u001b[36m0:00:00\u001b[0m\n",
            "\u001b[?25h\u001b[?25l   \u001b[90m━━━━━━━━━━━━━━━━━━━━━━━━━━━━━━━━━━━━━━━━\u001b[0m \u001b[32m0.0/129.3 kB\u001b[0m \u001b[31m?\u001b[0m eta \u001b[36m-:--:--\u001b[0m\r\u001b[2K   \u001b[90m━━━━━━━━━━━━━━━━━━━━━━━━━━━━━━━━━━━━━━━━\u001b[0m \u001b[32m129.3/129.3 kB\u001b[0m \u001b[31m9.8 MB/s\u001b[0m eta \u001b[36m0:00:00\u001b[0m\n",
            "\u001b[?25h\u001b[?25l   \u001b[90m━━━━━━━━━━━━━━━━━━━━━━━━━━━━━━━━━━━━━━━━\u001b[0m \u001b[32m0.0/130.2 kB\u001b[0m \u001b[31m?\u001b[0m eta \u001b[36m-:--:--\u001b[0m\r\u001b[2K   \u001b[90m━━━━━━━━━━━━━━━━━━━━━━━━━━━━━━━━━━━━━━━━\u001b[0m \u001b[32m130.2/130.2 kB\u001b[0m \u001b[31m11.5 MB/s\u001b[0m eta \u001b[36m0:00:00\u001b[0m\n",
            "\u001b[2K   \u001b[90m━━━━━━━━━━━━━━━━━━━━━━━━━━━━━━━━━━━━━━━━\u001b[0m \u001b[32m734.6/734.6 kB\u001b[0m \u001b[31m26.7 MB/s\u001b[0m eta \u001b[36m0:00:00\u001b[0m\n",
            "\u001b[2K   \u001b[90m━━━━━━━━━━━━━━━━━━━━━━━━━━━━━━━━━━━━━━━━\u001b[0m \u001b[32m45.2/45.2 kB\u001b[0m \u001b[31m3.9 MB/s\u001b[0m eta \u001b[36m0:00:00\u001b[0m\n",
            "\u001b[?25h"
          ]
        }
      ],
      "source": [
        "!pip install -Uq openai-agents pydantic"
      ]
    },
    {
      "cell_type": "code",
      "source": [
        "\n",
        "import nest_asyncio\n",
        "nest_asyncio.apply()"
      ],
      "metadata": {
        "id": "gKywJL_BhpAg"
      },
      "execution_count": 2,
      "outputs": []
    },
    {
      "cell_type": "code",
      "source": [
        "from pydantic import BaseModel\n",
        "from agents import (\n",
        "    Agent,\n",
        "    GuardrailFunctionOutput,\n",
        "    InputGuardrailTripwireTriggered,\n",
        "    OutputGuardrailTripwireTriggered,\n",
        "    RunContextWrapper,\n",
        "    Runner,\n",
        "    TResponseInputItem,\n",
        "    input_guardrail,\n",
        "    output_guardrail,\n",
        "    AsyncOpenAI,\n",
        "    OpenAIChatCompletionsModel,\n",
        "    RunConfig\n",
        ")\n",
        "from google.colab import userdata\n",
        "\n",
        "\n",
        "gemini_api_key = userdata.get(\"GOOGLE_API_KEY\")\n",
        "\n",
        "if not gemini_api_key:\n",
        "    raise ValueError(\"Please set the GOOGLE_API_KEY environment variable\")"
      ],
      "metadata": {
        "id": "ZxhVP6TFfs_B"
      },
      "execution_count": 6,
      "outputs": []
    },
    {
      "cell_type": "code",
      "source": [
        "class MathHomeworkOutput(BaseModel):\n",
        "  is_math_homework : bool # Boolean Value represents decision\n",
        "  reasoning : str # Showe the reasoning for the decision\n",
        "  answer: str # This is the answer to the user question\n",
        "\n",
        "external_client = AsyncOpenAI(\n",
        "    api_key=gemini_api_key,\n",
        "    base_url=\"https://generativelanguage.googleapis.com/v1beta/openai/\",\n",
        ")\n",
        "\n",
        "model = OpenAIChatCompletionsModel(\n",
        "    model=\"gemini-2.0-flash\",\n",
        "    openai_client=external_client\n",
        ")\n",
        "\n",
        "config = RunConfig(\n",
        "    model=model,\n",
        "    model_provider=external_client,\n",
        "    tracing_disabled=True\n",
        ")\n",
        "\n",
        "\n",
        "guardrail_agent = Agent(\n",
        "    name=\"Guardrail Check\",\n",
        "    instructions=\"Check if the user is asking you to do their math homeowrk\",\n",
        "    output_type=MathHomeworkOutput,\n",
        "    model=model\n",
        ")\n",
        "\n",
        "result = Runner.run_sync(guardrail_agent, \"What is the capital of pakistan\")\n",
        "\n",
        "print(result.final_output)"
      ],
      "metadata": {
        "colab": {
          "base_uri": "https://localhost:8080/"
        },
        "id": "tNVsAtwUh471",
        "outputId": "3d5911ff-0291-4969-fe96-dcbf28a98d09"
      },
      "execution_count": 7,
      "outputs": [
        {
          "output_type": "stream",
          "name": "stdout",
          "text": [
            "is_math_homework=False reasoning='This is a question about geography, not mathematics.' answer='Islamabad'\n"
          ]
        }
      ]
    },
    {
      "cell_type": "code",
      "source": [
        "result = Runner.run_sync(guardrail_agent, \"What is 2 + 2\")\n",
        "\n",
        "print(result.final_output.answer)\n",
        "print(result.final_output.is_math_homework)\n",
        "print(result.final_output.reasoning)"
      ],
      "metadata": {
        "colab": {
          "base_uri": "https://localhost:8080/"
        },
        "id": "b88hc4P-jNxk",
        "outputId": "f63e1d90-e866-42f8-aaa7-26c86cc30296"
      },
      "execution_count": 14,
      "outputs": [
        {
          "output_type": "stream",
          "name": "stdout",
          "text": [
            "4\n",
            "True\n",
            "This is a basic arithmetic question that is commonly found in math homework.\n"
          ]
        }
      ]
    },
    {
      "cell_type": "code",
      "source": [
        "@input_guardrail\n",
        "async def math_guardrail(\n",
        "    ctx: RunContextWrapper[None], agent: Agent, input: str | list[TResponseInputItem]\n",
        ") -> GuardrailFunctionOutput:\n",
        "    result = await Runner.run(guardrail_agent, input, context=ctx.context)\n",
        "    print(f\"\"\"[Guardrail Debugging] , The response is\n",
        "    {result.final_output} \"\"\")\n",
        "    return GuardrailFunctionOutput(\n",
        "        output_info=result.final_output,\n",
        "        tripwire_triggered=result.final_output.is_math_homework,\n",
        "    )\n",
        "agent = Agent(\n",
        "    name=\"Math HOmeowrk Assistant\",\n",
        "    instructions=\"You are a customer support agent. You help customers with their questions.\",\n",
        "    input_guardrails=[math_guardrail],\n",
        "    model=model\n",
        ")\n",
        "\n",
        "\n",
        "try:\n",
        "    await Runner.run(agent, \"Hello, can you help me solve for x: 2x + 3 = 11?\")\n",
        "    print(\"Guardrail didn't trip - this is unexpected\")\n",
        "\n",
        "except InputGuardrailTripwireTriggered:\n",
        "    print(\"Math homework guardrail tripped\")\n",
        "\n",
        "\n",
        "\n",
        "\n"
      ],
      "metadata": {
        "colab": {
          "base_uri": "https://localhost:8080/"
        },
        "id": "TJb2eKJwn64l",
        "outputId": "8ada1d50-841e-4159-8bfe-8b20573073e8"
      },
      "execution_count": 12,
      "outputs": [
        {
          "output_type": "stream",
          "name": "stdout",
          "text": [
            "[Guardrail Debugging] , The response is \n",
            "    is_math_homework=True reasoning='The user is asking for help with a simple algebraic equation, which is a common type of math homework problem. The equation 2x + 3 = 11 can be solved by subtracting 3 from both sides to get 2x = 8, then dividing both sides by 2 to get x = 4.' answer='x = 4' \n",
            "Math homework guardrail tripped\n"
          ]
        }
      ]
    },
    {
      "cell_type": "markdown",
      "source": [
        "# Output Guardrails"
      ],
      "metadata": {
        "id": "ejjSHpJ0zzkf"
      }
    },
    {
      "cell_type": "code",
      "source": [
        "class MessageOutput(BaseModel):\n",
        "    response: str\n",
        "\n",
        "class MathOutput(BaseModel):\n",
        "    is_math: bool\n",
        "    reasoning: str\n",
        "\n",
        "guardrail_agent2 = Agent(\n",
        "    name=\"Guardrail check\",\n",
        "    instructions=\"Check if the output includes any math.\",\n",
        "    output_type=MathOutput,\n",
        ")\n",
        "\n",
        "@output_guardrail\n",
        "async def math_guardrail2(\n",
        "    ctx: RunContextWrapper, agent: Agent, output: MessageOutput\n",
        ") -> GuardrailFunctionOutput:\n",
        "    result = await Runner.run(guardrail_agent2, output.response, context=ctx.context, run_config = config)\n",
        "\n",
        "    return GuardrailFunctionOutput(\n",
        "        output_info=result.final_output,\n",
        "        tripwire_triggered=result.final_output.is_math,\n",
        "    )\n",
        "\n",
        "agent2 = Agent(\n",
        "    name=\"Customer support agent\",\n",
        "    instructions=\"You are a customer support agent. You help customers with their questions.\",\n",
        "    output_guardrails=[math_guardrail2],\n",
        "    output_type=MessageOutput,\n",
        ")\n",
        "\n",
        "\n",
        "# This should trip the guardrail\n",
        "try:\n",
        "    await Runner.run(agent2, \"Hello, can you help me solve for x: 2x + 3 = 11?\", run_config = config)\n",
        "    print(\"Guardrail didn't trip - this is unexpected\")\n",
        "\n",
        "except OutputGuardrailTripwireTriggered:\n",
        "    print(\"Math output guardrail tripped\")"
      ],
      "metadata": {
        "colab": {
          "base_uri": "https://localhost:8080/"
        },
        "id": "PrPAbYlSwsGb",
        "outputId": "821bf712-c6d1-4b6e-e9b1-acbbfbc1d349"
      },
      "execution_count": 20,
      "outputs": [
        {
          "output_type": "stream",
          "name": "stdout",
          "text": [
            "Math output guardrail tripped\n"
          ]
        }
      ]
    },
    {
      "cell_type": "code",
      "source": [],
      "metadata": {
        "id": "1hBKcH5xzo8I"
      },
      "execution_count": null,
      "outputs": []
    }
  ]
}