{
 "cells": [
  {
   "cell_type": "code",
   "execution_count": 1,
   "id": "fadfd8ae",
   "metadata": {},
   "outputs": [],
   "source": [
    "import nest_asyncio\n",
    "nest_asyncio.apply()\n"
   ]
  },
  {
   "cell_type": "code",
   "execution_count": 3,
   "id": "e74d8550",
   "metadata": {},
   "outputs": [
    {
     "name": "stdout",
     "output_type": "stream",
     "text": [
      "^C\n"
     ]
    },
    {
     "name": "stderr",
     "output_type": "stream",
     "text": [
      "WARNING: Connection timed out while downloading.\n",
      "ERROR: Could not install packages due to an OSError: [WinError 32] The process cannot access the file because it is being used by another process: 'C:\\\\Users\\\\Mustafa Tawab\\\\AppData\\\\Local\\\\Temp\\\\pip-unpack-6q9im69t\\\\charset_normalizer-3.4.2-cp313-cp313-win_amd64.whl'\n",
      "Consider using the `--user` option or check the permissions.\n",
      "\n"
     ]
    }
   ],
   "source": [
    "!pip install -Uq openai-agents"
   ]
  },
  {
   "cell_type": "code",
   "execution_count": 7,
   "id": "2523e326",
   "metadata": {},
   "outputs": [
    {
     "name": "stdout",
     "output_type": "stream",
     "text": [
      "Defaulting to user installation because normal site-packages is not writeable\n",
      "Requirement already satisfied: python-dotenv in c:\\users\\mustafa tawab\\appdata\\roaming\\python\\python312\\site-packages (1.1.0)\n"
     ]
    }
   ],
   "source": [
    "!pip install python-dotenv"
   ]
  },
  {
   "cell_type": "code",
   "execution_count": null,
   "id": "7f678f10",
   "metadata": {},
   "outputs": [],
   "source": [
    "from agents import Agent, Runner, AsyncOpenAI , OpenAIChatCompletionModel, function_tool , RunConfig, ModelSettings\n",
    "from dotenv import load_dotenv\n",
    "import os\n",
    "\n",
    "load_dotenv()\n",
    "GEMINI_API_KEY = os.get(\"GEMINI_API_KEY\")\n",
    "\n",
    "external_client: AsyncOpenAI = AsyncOpenAI(\n",
    "    api_key=GEMINI_API_KEY,\n",
    "    base_url=\"https://generativelanguage.googleapis.com/v1beta/openai/\",\n",
    "\n",
    ")\n",
    "\n",
    "\n",
    "\n",
    "model: OpenAIChatCompletionsModel = OpenAIChatCompletionsModel(\n",
    "    openai_client=client,\n",
    "    model='gemini-2.0-flash'\n",
    ")\n",
    "\n",
    "\n",
    "config: RunConfig = RunConfig(\n",
    "    model=model,\n",
    "    model_provider=client,\n",
    "    tracing_disabled=True\n",
    ")\n",
    "\n",
    "\n",
    "@function_tool\n",
    "def math_problem(problem: str) -> str:\n",
    "    \"\"\" Solving Math and Programming problems \"\"\"\n",
    "    print(f\"[TOOL CALLING] {problem}\")\n",
    "    return f\"Your Problem is {problem} very complicated\"\n",
    "\n",
    "\n",
    "\n",
    "\n",
    "\n",
    "agent: Agent = Agent(\n",
    "    name=\"problem_solver\",\n",
    "    instructions=\"You are a problem solver\",\n",
    "    model=model,\n",
    "    tools=[math_problem]\n",
    ")\n",
    "\n",
    "\n",
    "run: Runner = Runner.run_sync(\n",
    "    agent,\n",
    "    \"HI, Can you please solve this (2/2*1000+90) ? \",\n",
    "    config=config\n",
    ")\n",
    "\n",
    "\n",
    "print(run.funal_output)"
   ]
  }
 ],
 "metadata": {
  "kernelspec": {
   "display_name": "Python 3",
   "language": "python",
   "name": "python3"
  },
  "language_info": {
   "codemirror_mode": {
    "name": "ipython",
    "version": 3
   },
   "file_extension": ".py",
   "mimetype": "text/x-python",
   "name": "python",
   "nbconvert_exporter": "python",
   "pygments_lexer": "ipython3",
   "version": "3.13.5"
  }
 },
 "nbformat": 4,
 "nbformat_minor": 5
}
