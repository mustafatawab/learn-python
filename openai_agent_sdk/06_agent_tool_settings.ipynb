{
  "nbformat": 4,
  "nbformat_minor": 0,
  "metadata": {
    "colab": {
      "provenance": []
    },
    "kernelspec": {
      "name": "python3",
      "display_name": "Python 3"
    },
    "language_info": {
      "name": "python"
    }
  },
  "cells": [
    {
      "cell_type": "code",
      "execution_count": 1,
      "metadata": {
        "id": "mMo8GkTlx1mg",
        "colab": {
          "base_uri": "https://localhost:8080/"
        },
        "outputId": "282fb5a3-873b-4b51-ef86-f20103be393b"
      },
      "outputs": [
        {
          "output_type": "stream",
          "name": "stdout",
          "text": [
            "\u001b[2K     \u001b[90m━━━━━━━━━━━━━━━━━━━━━━━━━━━━━━━━━━━━━━━━\u001b[0m \u001b[32m40.1/40.1 kB\u001b[0m \u001b[31m1.8 MB/s\u001b[0m eta \u001b[36m0:00:00\u001b[0m\n",
            "\u001b[2K   \u001b[90m━━━━━━━━━━━━━━━━━━━━━━━━━━━━━━━━━━━━━━━━\u001b[0m \u001b[32m130.6/130.6 kB\u001b[0m \u001b[31m8.2 MB/s\u001b[0m eta \u001b[36m0:00:00\u001b[0m\n",
            "\u001b[2K   \u001b[90m━━━━━━━━━━━━━━━━━━━━━━━━━━━━━━━━━━━━━━━━\u001b[0m \u001b[32m129.3/129.3 kB\u001b[0m \u001b[31m9.6 MB/s\u001b[0m eta \u001b[36m0:00:00\u001b[0m\n",
            "\u001b[2K   \u001b[90m━━━━━━━━━━━━━━━━━━━━━━━━━━━━━━━━━━━━━━━━\u001b[0m \u001b[32m150.9/150.9 kB\u001b[0m \u001b[31m12.2 MB/s\u001b[0m eta \u001b[36m0:00:00\u001b[0m\n",
            "\u001b[2K   \u001b[90m━━━━━━━━━━━━━━━━━━━━━━━━━━━━━━━━━━━━━━━━\u001b[0m \u001b[32m45.2/45.2 kB\u001b[0m \u001b[31m1.6 MB/s\u001b[0m eta \u001b[36m0:00:00\u001b[0m\n",
            "\u001b[?25h"
          ]
        }
      ],
      "source": [
        "!pip install -Uq openai-agents"
      ]
    },
    {
      "cell_type": "code",
      "source": [
        "import nest_asyncio\n",
        "nest_asyncio.apply()"
      ],
      "metadata": {
        "id": "fok5uRphWk6A"
      },
      "execution_count": 2,
      "outputs": []
    },
    {
      "cell_type": "code",
      "source": [
        "from agents import Agent, Runner ,OpenAIChatCompletionsModel,RunConfig, AsyncOpenAI,  ModelSettings,  function_tool, set_default_openai_client, set_default_openai_api\n",
        "from agents.agent import StopAtTools\n",
        "from google.colab import userdata\n",
        "\n",
        "gemini_api_key = userdata.get(\"GOOGLE_API_KEY\")\n",
        "\n",
        "set_default_openai_api(\"chat_completions\")\n",
        "\n",
        "if not gemini_api_key:\n",
        "  raise ValueError(\"Gemini Key is not set. Pleaes set it first\")\n",
        "\n",
        "\n",
        "@function_tool(name_override=\"Addition_function\" , description_override=\"Add two numbers which have been given to you\") # Name will be Addition_function and same as description. It overrides.\n",
        "def add(a:int, b:int)->int:\n",
        "  \"\"\" Addition of two numbers \"\"\"\n",
        "  print(\" \\n [DEBUG] Addition tool called\")\n",
        "  return a + b - 5\n",
        "\n",
        "@function_tool\n",
        "def human_loop() -> str:\n",
        "  \"\"\" Human in the loop \"\"\"\n",
        "  print(\"Human in the loop\")\n",
        "  return\n",
        "\n",
        "client = AsyncOpenAI(\n",
        "    api_key=gemini_api_key,\n",
        "    base_url=\"https://generativelanguage.googleapis.com/v1beta/openai/\",\n",
        ")\n",
        "\n",
        "model = OpenAIChatCompletionsModel(\n",
        "    openai_client=client,\n",
        "    model='gemini-2.0-flash'\n",
        ")\n",
        "\n",
        "\n",
        "config = RunConfig(\n",
        "    model=model,\n",
        "    model_provider=client,\n",
        "    tracing_disabled=True\n",
        ")\n",
        "\n",
        "\n",
        "agent: Agent = Agent(\n",
        "  name=\"Agent\",\n",
        "  instructions=\"You are an Agent\",\n",
        "  model=model,\n",
        "  tools=[add, human_loop],\n",
        "  # tool_use_behavior=StopAtTools(stop_at_tool_names=['human_loop'])\n",
        "  # model_settings=ModelSettings(tool_choice=\"required\")\n",
        "  # reset_tool_choice=False\n",
        ")\n"
      ],
      "metadata": {
        "id": "uY3doHKm9bVl"
      },
      "execution_count": 5,
      "outputs": []
    },
    {
      "cell_type": "code",
      "source": [
        "res = Runner.run_sync(\n",
        "    agent , \"Hi, what is 2 + 2\",\n",
        "    # max_turns=2\n",
        ")\n",
        "\n",
        "print(res.final_output)"
      ],
      "metadata": {
        "colab": {
          "base_uri": "https://localhost:8080/"
        },
        "id": "KktrjSYfI0Xb",
        "outputId": "862d38ea-7013-400c-d90e-40f139647167"
      },
      "execution_count": 6,
      "outputs": [
        {
          "output_type": "stream",
          "name": "stdout",
          "text": [
            " \n",
            " [DEBUG] Addition tool called\n",
            "I'm not sure I got that right. Would you like me to get a human to check?\n",
            "\n"
          ]
        }
      ]
    },
    {
      "cell_type": "code",
      "source": [
        "from agents import Agent , Runner , RunConfig, function_tool, AsyncOpenAI, RunContextWrapper, FunctionTool\n",
        "from pydantic import BaseModel, ConfigDict\n",
        "from typing import Any\n",
        "\n",
        "\n",
        "class FunctionArgs(BaseModel):\n",
        "  username: str\n",
        "  age: int\n",
        "  model_config = ConfigDict(extra=\"forbid\")\n",
        "\n",
        "\n",
        "async def run_function(ctx: RunContextWrapper[Any], args: str) -> str\n",
        "  parsed = FunctionArgs.model_validate_json(args)\n",
        "  return\n",
        "\n",
        "\n",
        "tool = FunctionTool(\n",
        "    name='Process_User',\n",
        "    description='Process Extracted user data',\n",
        "    params_json_schema=FunctionArgs.model_json_schema(),\n",
        "    on_invoke_tool=run_function\n",
        ")\n",
        "\n",
        "example_agent: Agent = Agent(\n",
        "  name=\"Example Agent\",\n",
        "  instructions=\"You are an Agent\",\n",
        "  tools=[tool]\n",
        ")\n"
      ],
      "metadata": {
        "id": "JnOVvmkuWDZs"
      },
      "execution_count": 4,
      "outputs": []
    }
  ]
}