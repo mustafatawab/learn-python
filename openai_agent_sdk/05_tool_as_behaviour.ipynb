{
  "nbformat": 4,
  "nbformat_minor": 0,
  "metadata": {
    "colab": {
      "provenance": []
    },
    "kernelspec": {
      "name": "python3",
      "display_name": "Python 3"
    },
    "language_info": {
      "name": "python"
    }
  },
  "cells": [
    {
      "cell_type": "code",
      "execution_count": 4,
      "metadata": {
        "id": "mMo8GkTlx1mg"
      },
      "outputs": [],
      "source": [
        "!pip install -Uq openai-agents"
      ]
    },
    {
      "cell_type": "code",
      "source": [
        "import nest_asyncio\n",
        "nest_asyncio.apply()"
      ],
      "metadata": {
        "id": "fok5uRphWk6A"
      },
      "execution_count": 14,
      "outputs": []
    },
    {
      "cell_type": "code",
      "source": [
        "from agents import Agent, Runner ,OpenAIChatCompletionsModel,RunConfig, AsyncOpenAI,  ModelSettings,  function_tool, set_default_openai_client, set_default_openai_api\n",
        "from agents.agent import StopAtTools\n",
        "from google.colab import userdata\n",
        "\n",
        "gemini_api_key = userdata.get(\"GOOGLE_API_KEY\")\n",
        "\n",
        "set_default_openai_api(\"chat_completions\")\n",
        "\n",
        "if not gemini_api_key:\n",
        "  raise ValueError(\"Gemini Key is not set. Pleaes set it first\")\n",
        "\n",
        "\n",
        "@function_tool\n",
        "def add(a:int, b:int)->int:\n",
        "  \"\"\" Addition of two numbers \"\"\"\n",
        "  print(\" \\n [DEBUG] Addition tool called\")\n",
        "  return a + b - 5\n",
        "\n",
        "\n",
        "client = AsyncOpenAI(\n",
        "    api_key=gemini_api_key,\n",
        "    base_url=\"https://generativelanguage.googleapis.com/v1beta/openai/\",\n",
        ")\n",
        "\n",
        "model = OpenAIChatCompletionsModel(\n",
        "    openai_client=client,\n",
        "    model='gemini-2.0-flash'\n",
        ")\n",
        "\n",
        "\n",
        "config = RunConfig(\n",
        "    model=model,\n",
        "    model_provider=client,\n",
        "    tracing_disabled=True\n",
        ")\n",
        "\n",
        "\n",
        "agent: Agent = Agent(\n",
        "  name=\"Agent\",\n",
        "  instructions=\"You are an Agent\",\n",
        "  model=model,\n",
        "  tools=[add],\n",
        "  tool_use_behavior=StopAtTools(stop_at_tool_names=['add'])\n",
        ")\n"
      ],
      "metadata": {
        "id": "uY3doHKm9bVl"
      },
      "execution_count": 46,
      "outputs": []
    },
    {
      "cell_type": "code",
      "source": [
        "res = Runner.run_sync(\n",
        "    agent , \"Hi, what is 2 + 2\"\n",
        ")\n",
        "\n",
        "print(res.final_output)"
      ],
      "metadata": {
        "colab": {
          "base_uri": "https://localhost:8080/"
        },
        "id": "KktrjSYfI0Xb",
        "outputId": "dd6f9b3f-4cf3-44d0-e874-c1a8526c962e"
      },
      "execution_count": 47,
      "outputs": [
        {
          "output_type": "stream",
          "name": "stdout",
          "text": [
            " \n",
            " [DEBUG] Addition tool called\n",
            "-1\n"
          ]
        }
      ]
    },
    {
      "cell_type": "code",
      "source": [],
      "metadata": {
        "id": "JnOVvmkuWDZs"
      },
      "execution_count": 32,
      "outputs": []
    }
  ]
}