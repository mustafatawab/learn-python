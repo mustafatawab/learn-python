{
  "nbformat": 4,
  "nbformat_minor": 0,
  "metadata": {
    "colab": {
      "provenance": []
    },
    "kernelspec": {
      "name": "python3",
      "display_name": "Python 3"
    },
    "language_info": {
      "name": "python"
    }
  },
  "cells": [
    {
      "cell_type": "code",
      "execution_count": 1,
      "metadata": {
        "colab": {
          "base_uri": "https://localhost:8080/"
        },
        "id": "AcGUM5W4-e-o",
        "outputId": "6646e0dc-4f9d-44d9-c1dd-80c61592a7ef"
      },
      "outputs": [
        {
          "output_type": "stream",
          "name": "stdout",
          "text": [
            "\u001b[?25l   \u001b[90m━━━━━━━━━━━━━━━━━━━━━━━━━━━━━━━━━━━━━━━━\u001b[0m \u001b[32m0.0/121.9 kB\u001b[0m \u001b[31m?\u001b[0m eta \u001b[36m-:--:--\u001b[0m\r\u001b[2K   \u001b[90m━━━━━━━━━━━━━━━━━━━━━━━━━━━━━━━━━━━━━━━━\u001b[0m \u001b[32m121.9/121.9 kB\u001b[0m \u001b[31m6.1 MB/s\u001b[0m eta \u001b[36m0:00:00\u001b[0m\n",
            "\u001b[?25h\u001b[?25l   \u001b[90m━━━━━━━━━━━━━━━━━━━━━━━━━━━━━━━━━━━━━━━━\u001b[0m \u001b[32m0.0/129.3 kB\u001b[0m \u001b[31m?\u001b[0m eta \u001b[36m-:--:--\u001b[0m\r\u001b[2K   \u001b[90m━━━━━━━━━━━━━━━━━━━━━━━━━━━━━━━━━━━━━━━━\u001b[0m \u001b[32m129.3/129.3 kB\u001b[0m \u001b[31m9.6 MB/s\u001b[0m eta \u001b[36m0:00:00\u001b[0m\n",
            "\u001b[2K   \u001b[90m━━━━━━━━━━━━━━━━━━━━━━━━━━━━━━━━━━━━━━━━\u001b[0m \u001b[32m131.1/131.1 kB\u001b[0m \u001b[31m11.1 MB/s\u001b[0m eta \u001b[36m0:00:00\u001b[0m\n",
            "\u001b[2K   \u001b[90m━━━━━━━━━━━━━━━━━━━━━━━━━━━━━━━━━━━━━━━━\u001b[0m \u001b[32m44.4/44.4 kB\u001b[0m \u001b[31m3.3 MB/s\u001b[0m eta \u001b[36m0:00:00\u001b[0m\n",
            "\u001b[?25h"
          ]
        }
      ],
      "source": [
        "!pip install -Uq openai-agents"
      ]
    },
    {
      "cell_type": "code",
      "source": [
        "import nest_asyncio\n",
        "nest_asyncio.apply()"
      ],
      "metadata": {
        "id": "-4zi7oYGABtA"
      },
      "execution_count": 2,
      "outputs": []
    },
    {
      "cell_type": "code",
      "source": [
        "from google.colab import userdata\n",
        "\n",
        "OPENROUTER_API_KEY = userdata.get(\"OPENROUTER_API_KEY\")"
      ],
      "metadata": {
        "id": "-z-TuHOGAF9T"
      },
      "execution_count": 4,
      "outputs": []
    },
    {
      "cell_type": "code",
      "source": [
        "#Reference: https://openrouter.ai/docs/quickstart\n",
        "\n",
        "BASE_URL = \"https://openrouter.ai/api/v1\"\n",
        "MODEL =  \"deepseek/deepseek-prover-v2:free\""
      ],
      "metadata": {
        "id": "IoFgJXGSAouS"
      },
      "execution_count": 9,
      "outputs": []
    },
    {
      "cell_type": "markdown",
      "source": [
        "## Directly using open router"
      ],
      "metadata": {
        "id": "M0CYp-c4BSyB"
      }
    },
    {
      "cell_type": "code",
      "source": [
        "import requests\n",
        "import json\n",
        "\n",
        "response = requests.post(\n",
        "  url=f\"{BASE_URL}/chat/completions\",\n",
        "  headers={\n",
        "    \"Authorization\": f\"Bearer {OPENROUTER_API_KEY}\",\n",
        "  },\n",
        "  data=json.dumps({\n",
        "    \"model\": MODEL,\n",
        "    \"messages\": [\n",
        "      {\n",
        "        \"role\": \"user\",\n",
        "        \"content\": \"what do you think about the my personal software agency. The name is Farsight Systems. \"\n",
        "      }\n",
        "    ]\n",
        "  })\n",
        ")\n",
        "\n",
        "# print(response.json())"
      ],
      "metadata": {
        "colab": {
          "base_uri": "https://localhost:8080/"
        },
        "id": "amAkDxMFBLsv",
        "outputId": "953a7625-2417-4569-91ff-772dd1a40125"
      },
      "execution_count": 14,
      "outputs": [
        {
          "output_type": "stream",
          "name": "stdout",
          "text": [
            "{'id': 'gen-1749193370-O3PUtDHoR7yk7kI2zm2M', 'provider': 'Chutes', 'model': 'deepseek/deepseek-prover-v2:free', 'object': 'chat.completion', 'created': 1749193370, 'choices': [{'logprobs': None, 'finish_reason': 'stop', 'native_finish_reason': 'stop', 'index': 0, 'message': {'role': 'assistant', 'content': '### Assessment of \"Farsight Systems\" as a Personal Software Agency Name\\n\\n**1. Name Analysis: Farsight Systems**\\n- **Farsight**: The term \"farsight\" evokes ideas of foresight, vision, and long-term thinking. This can be very attractive in the context of a software agency, as it suggests that the company is forward-thinking and strategic.\\n- **Systems**: The word \"systems\" is broad and can encompass software systems, enterprise systems, technological infrastructure, etc. It gives a technical and professional touch to the name.\\n\\n**2. Positive Aspects:**\\n- **Memorable**: The name is moderately memorable. \"Farsight\" is distinctive but not unusual enough to be forgotten easily.\\n- **Meaningful**: The name implies that the company has a visionary approach and can provide solutions that are not just for today but for the future.\\n- **Professional**: The term \"Systems\" indicates that the company works with a broad spectrum of technical or enterprise-level projects.\\n\\n**3. Potential Concerns:**\\n- **Clarity**: While the name suggests a forward-thinking approach, it’s not immediately clear that this is a software agency unless you add that context (e.g., \"Farsight Systems: Software Agency\").\\n- **Competition**: The name might be confusing with other companies with \"Farsight\" in their name (e.g., Farsight Security, Farsight Consulting, etc.).\\n- **Brand Fit**: If you’re specifically targeting software development, clients might not instantly associate \"Farsight Systems\" with software services unless they are familiar with the industry.\\n\\n**4. Suggestions for Improvement:**\\n- Consider adding a tagline to clarify the nature of your services (e.g., \"Farsight Systems: Software Solutions for Tomorrow\").\\n- Check domain availability. A domain like `farsightsystems.com` is professional but might be taken. Alternatives like `farsightsw.com` (software) or `farsight.dev` could be more distinctive.\\n\\n**5. Conclusion:**\\nOverall, \"Farsight Systems\" is a strong name for a software agency, particularly if your brand focuses on long-term solutions and strategic thinking. Make sure to pair it with context to clarify the services offered and verify domain availability for your online presence. \\n\\nIf you’re satisfied with the name, your next steps would be to:\\n1. Check if the domain is available.\\n2. Research trademark registrations to ensure there are no conflicts.\\n3. Validate client/prospect reception (if possible) to gauge how well the name resonates with your target market.\\n\\nWould you like help with any of these next steps?', 'refusal': None, 'reasoning': None}}], 'usage': {'prompt_tokens': 25, 'completion_tokens': 544, 'total_tokens': 569, 'prompt_tokens_details': None}}\n"
          ]
        }
      ]
    },
    {
      "cell_type": "code",
      "source": [
        "data  = response.json()\n",
        "data['choices'][0]['message']['content']"
      ],
      "metadata": {
        "colab": {
          "base_uri": "https://localhost:8080/",
          "height": 175
        },
        "id": "PyVIDWfHCpXH",
        "outputId": "d859ecd8-d9f4-4e2a-e615-72262d5856f6"
      },
      "execution_count": 15,
      "outputs": [
        {
          "output_type": "execute_result",
          "data": {
            "text/plain": [
              "'### Assessment of \"Farsight Systems\" as a Personal Software Agency Name\\n\\n**1. Name Analysis: Farsight Systems**\\n- **Farsight**: The term \"farsight\" evokes ideas of foresight, vision, and long-term thinking. This can be very attractive in the context of a software agency, as it suggests that the company is forward-thinking and strategic.\\n- **Systems**: The word \"systems\" is broad and can encompass software systems, enterprise systems, technological infrastructure, etc. It gives a technical and professional touch to the name.\\n\\n**2. Positive Aspects:**\\n- **Memorable**: The name is moderately memorable. \"Farsight\" is distinctive but not unusual enough to be forgotten easily.\\n- **Meaningful**: The name implies that the company has a visionary approach and can provide solutions that are not just for today but for the future.\\n- **Professional**: The term \"Systems\" indicates that the company works with a broad spectrum of technical or enterprise-level projects.\\n\\n**3. Potential Concerns:**\\n- **Clarity**: While the name suggests a forward-thinking approach, it’s not immediately clear that this is a software agency unless you add that context (e.g., \"Farsight Systems: Software Agency\").\\n- **Competition**: The name might be confusing with other companies with \"Farsight\" in their name (e.g., Farsight Security, Farsight Consulting, etc.).\\n- **Brand Fit**: If you’re specifically targeting software development, clients might not instantly associate \"Farsight Systems\" with software services unless they are familiar with the industry.\\n\\n**4. Suggestions for Improvement:**\\n- Consider adding a tagline to clarify the nature of your services (e.g., \"Farsight Systems: Software Solutions for Tomorrow\").\\n- Check domain availability. A domain like `farsightsystems.com` is professional but might be taken. Alternatives like `farsightsw.com` (software) or `farsight.dev` could be more distinctive.\\n\\n**5. Conclusion:**\\nOverall, \"Farsight Systems\" is a strong name for a software agency, particularly if your brand focuses on long-term solutions and strategic thinking. Make sure to pair it with context to clarify the services offered and verify domain availability for your online presence. \\n\\nIf you’re satisfied with the name, your next steps would be to:\\n1. Check if the domain is available.\\n2. Research trademark registrations to ensure there are no conflicts.\\n3. Validate client/prospect reception (if possible) to gauge how well the name resonates with your target market.\\n\\nWould you like help with any of these next steps?'"
            ],
            "application/vnd.google.colaboratory.intrinsic+json": {
              "type": "string"
            }
          },
          "metadata": {},
          "execution_count": 15
        }
      ]
    },
    {
      "cell_type": "markdown",
      "source": [
        "## Using OpenAI SDK"
      ],
      "metadata": {
        "id": "gVtebtbFCcHD"
      }
    },
    {
      "cell_type": "code",
      "source": [
        "!pip install openai-agents"
      ],
      "metadata": {
        "colab": {
          "base_uri": "https://localhost:8080/"
        },
        "collapsed": true,
        "id": "VmOPW4XuBhZe",
        "outputId": "60a0b499-353d-4f15-f1cf-ddedbd8de337"
      },
      "execution_count": 11,
      "outputs": [
        {
          "output_type": "stream",
          "name": "stdout",
          "text": [
            "Requirement already satisfied: openai-agents in /usr/local/lib/python3.11/dist-packages (0.0.17)\n",
            "Requirement already satisfied: griffe<2,>=1.5.6 in /usr/local/lib/python3.11/dist-packages (from openai-agents) (1.7.3)\n",
            "Requirement already satisfied: mcp<2,>=1.8.0 in /usr/local/lib/python3.11/dist-packages (from openai-agents) (1.9.3)\n",
            "Requirement already satisfied: openai>=1.81.0 in /usr/local/lib/python3.11/dist-packages (from openai-agents) (1.82.1)\n",
            "Requirement already satisfied: pydantic<3,>=2.10 in /usr/local/lib/python3.11/dist-packages (from openai-agents) (2.11.5)\n",
            "Requirement already satisfied: requests<3,>=2.0 in /usr/local/lib/python3.11/dist-packages (from openai-agents) (2.32.3)\n",
            "Requirement already satisfied: types-requests<3,>=2.0 in /usr/local/lib/python3.11/dist-packages (from openai-agents) (2.32.0.20250602)\n",
            "Requirement already satisfied: typing-extensions<5,>=4.12.2 in /usr/local/lib/python3.11/dist-packages (from openai-agents) (4.13.2)\n",
            "Requirement already satisfied: colorama>=0.4 in /usr/local/lib/python3.11/dist-packages (from griffe<2,>=1.5.6->openai-agents) (0.4.6)\n",
            "Requirement already satisfied: anyio>=4.5 in /usr/local/lib/python3.11/dist-packages (from mcp<2,>=1.8.0->openai-agents) (4.9.0)\n",
            "Requirement already satisfied: httpx-sse>=0.4 in /usr/local/lib/python3.11/dist-packages (from mcp<2,>=1.8.0->openai-agents) (0.4.0)\n",
            "Requirement already satisfied: httpx>=0.27 in /usr/local/lib/python3.11/dist-packages (from mcp<2,>=1.8.0->openai-agents) (0.28.1)\n",
            "Requirement already satisfied: pydantic-settings>=2.5.2 in /usr/local/lib/python3.11/dist-packages (from mcp<2,>=1.8.0->openai-agents) (2.9.1)\n",
            "Requirement already satisfied: python-multipart>=0.0.9 in /usr/local/lib/python3.11/dist-packages (from mcp<2,>=1.8.0->openai-agents) (0.0.20)\n",
            "Requirement already satisfied: sse-starlette>=1.6.1 in /usr/local/lib/python3.11/dist-packages (from mcp<2,>=1.8.0->openai-agents) (2.3.6)\n",
            "Requirement already satisfied: starlette>=0.27 in /usr/local/lib/python3.11/dist-packages (from mcp<2,>=1.8.0->openai-agents) (0.46.2)\n",
            "Requirement already satisfied: uvicorn>=0.23.1 in /usr/local/lib/python3.11/dist-packages (from mcp<2,>=1.8.0->openai-agents) (0.34.2)\n",
            "Requirement already satisfied: distro<2,>=1.7.0 in /usr/local/lib/python3.11/dist-packages (from openai>=1.81.0->openai-agents) (1.9.0)\n",
            "Requirement already satisfied: jiter<1,>=0.4.0 in /usr/local/lib/python3.11/dist-packages (from openai>=1.81.0->openai-agents) (0.10.0)\n",
            "Requirement already satisfied: sniffio in /usr/local/lib/python3.11/dist-packages (from openai>=1.81.0->openai-agents) (1.3.1)\n",
            "Requirement already satisfied: tqdm>4 in /usr/local/lib/python3.11/dist-packages (from openai>=1.81.0->openai-agents) (4.67.1)\n",
            "Requirement already satisfied: annotated-types>=0.6.0 in /usr/local/lib/python3.11/dist-packages (from pydantic<3,>=2.10->openai-agents) (0.7.0)\n",
            "Requirement already satisfied: pydantic-core==2.33.2 in /usr/local/lib/python3.11/dist-packages (from pydantic<3,>=2.10->openai-agents) (2.33.2)\n",
            "Requirement already satisfied: typing-inspection>=0.4.0 in /usr/local/lib/python3.11/dist-packages (from pydantic<3,>=2.10->openai-agents) (0.4.1)\n",
            "Requirement already satisfied: charset-normalizer<4,>=2 in /usr/local/lib/python3.11/dist-packages (from requests<3,>=2.0->openai-agents) (3.4.2)\n",
            "Requirement already satisfied: idna<4,>=2.5 in /usr/local/lib/python3.11/dist-packages (from requests<3,>=2.0->openai-agents) (3.10)\n",
            "Requirement already satisfied: urllib3<3,>=1.21.1 in /usr/local/lib/python3.11/dist-packages (from requests<3,>=2.0->openai-agents) (2.4.0)\n",
            "Requirement already satisfied: certifi>=2017.4.17 in /usr/local/lib/python3.11/dist-packages (from requests<3,>=2.0->openai-agents) (2025.4.26)\n",
            "Requirement already satisfied: httpcore==1.* in /usr/local/lib/python3.11/dist-packages (from httpx>=0.27->mcp<2,>=1.8.0->openai-agents) (1.0.9)\n",
            "Requirement already satisfied: h11>=0.16 in /usr/local/lib/python3.11/dist-packages (from httpcore==1.*->httpx>=0.27->mcp<2,>=1.8.0->openai-agents) (0.16.0)\n",
            "Requirement already satisfied: python-dotenv>=0.21.0 in /usr/local/lib/python3.11/dist-packages (from pydantic-settings>=2.5.2->mcp<2,>=1.8.0->openai-agents) (1.1.0)\n",
            "Requirement already satisfied: click>=7.0 in /usr/local/lib/python3.11/dist-packages (from uvicorn>=0.23.1->mcp<2,>=1.8.0->openai-agents) (8.2.1)\n"
          ]
        }
      ]
    },
    {
      "cell_type": "code",
      "source": [
        "import asyncio\n",
        "from openai import AsyncOpenAI\n",
        "from agents import Runner , OpenAIChatCompletionsModel , Agent, set_tracing_disabled"
      ],
      "metadata": {
        "id": "d7_NnBh6CgDE"
      },
      "execution_count": 16,
      "outputs": []
    },
    {
      "cell_type": "code",
      "source": [
        "client = AsyncOpenAI(\n",
        "  api_key=OPENROUTER_API_KEY,\n",
        "  base_url=BASE_URL,\n",
        ")\n",
        "\n",
        "set_tracing_disabled(disabled=True)\n",
        "\n",
        "async def main():\n",
        "  agent = Agent(\n",
        "         name=\"Assistant\",\n",
        "        instructions=\"You only respond in haikus.\",\n",
        "        model=OpenAIChatCompletionsModel(model=MODEL, openai_client=client),\n",
        "  )\n",
        "\n",
        "\n",
        "  result = await Runner.run(\n",
        "      agent , \"Tell me about decorator in python\"\n",
        "  )\n",
        "\n",
        "  print(result.final_output)\n",
        "\n",
        "\n",
        "if __name__ == \"__main__\":\n",
        "  asyncio.run(main())"
      ],
      "metadata": {
        "colab": {
          "base_uri": "https://localhost:8080/"
        },
        "id": "BfaL0XVjDuDY",
        "outputId": "44c77262-ab9f-447f-c478-ca89ba94b139"
      },
      "execution_count": 19,
      "outputs": [
        {
          "output_type": "stream",
          "name": "stdout",
          "text": [
            "```\r\n",
            "A decorator in Python\r\n",
            "Wraps a function with another\r\n",
            "Adds functionality\r\n",
            "Before/after call.\r\n",
            "\r\n",
            "Decorator syntax uses\r\n",
            "\"@\" symbol before function name.\r\n",
            "\r\n",
            "Example:\r\n",
            "@decorator\r\n",
            "def myfunc():\r\n",
            "    ...\r\n",
            "\r\n",
            "Is same as:\r\n",
            "myfunc = decorator(myfunc)\r\n",
            "```\n"
          ]
        }
      ]
    },
    {
      "cell_type": "code",
      "source": [],
      "metadata": {
        "id": "ebRgAT1HD6Js"
      },
      "execution_count": null,
      "outputs": []
    }
  ]
}